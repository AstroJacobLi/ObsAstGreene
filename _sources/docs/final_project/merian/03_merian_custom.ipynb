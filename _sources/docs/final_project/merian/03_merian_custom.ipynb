{
 "cells": [
  {
   "cell_type": "markdown",
   "id": "99bdfae7-9eab-4d40-a467-f95825f77912",
   "metadata": {},
   "source": [
    "# Merian Part 3: explore your own sample\n"
   ]
  },
  {
   "cell_type": "code",
   "execution_count": 1,
   "id": "8abd1290-9776-45ef-8399-fc372a5fc602",
   "metadata": {
    "editable": true,
    "slideshow": {
     "slide_type": ""
    },
    "tags": [
     "hide-input"
    ]
   },
   "outputs": [],
   "source": [
    "%load_ext autoreload\n",
    "%autoreload 2\n",
    "import os, sys\n",
    "from IPython.display import clear_output\n",
    "\n",
    "import numpy as np\n",
    "import matplotlib.pyplot as plt\n",
    "from astropy.table import Table\n",
    "from astropy.coordinates import SkyCoord\n",
    "\n",
    "# We can beautify our plots by changing the matpltlib setting a little\n",
    "plt.rcParams['font.size'] = 18\n",
    "plt.rcParams['image.origin'] = 'lower'\n",
    "plt.rcParams['figure.figsize'] = (8, 6)\n",
    "plt.rcParams['figure.dpi'] = 90\n",
    "plt.rcParams['axes.linewidth'] = 2"
   ]
  },
  {
   "cell_type": "code",
   "execution_count": 2,
   "id": "8621e06b-aac1-4beb-88f8-a798d9fc2439",
   "metadata": {
    "editable": true,
    "slideshow": {
     "slide_type": ""
    },
    "tags": [
     "hide-input"
    ]
   },
   "outputs": [],
   "source": [
    "required_packages = ['statmorph', 'sep']  # Define the required packages for this notebook\n",
    "\n",
    "import sys\n",
    "import subprocess\n",
    "\n",
    "try:\n",
    "    import google.colab\n",
    "    IN_COLAB = True\n",
    "except ImportError:\n",
    "    IN_COLAB = False\n",
    "\n",
    "if IN_COLAB:\n",
    "    # Download utils.py\n",
    "    !wget -q -O /content/utils.py https://raw.githubusercontent.com/AstroJacobLi/ObsAstGreene/refs/heads/main/book/docs/utils.py\n",
    "    # Function to check and install missing packages\n",
    "    def install_packages(packages):\n",
    "        for package in packages:\n",
    "            try:\n",
    "                __import__(package)\n",
    "            except ImportError:\n",
    "                print(f\"Installing {package}...\")\n",
    "                subprocess.check_call([sys.executable, '-m', 'pip', 'install', package])\n",
    "    # Install any missing packages\n",
    "    install_packages(required_packages)\n",
    "else:\n",
    "    # If not in Colab, adjust the path for local development\n",
    "    sys.path.append('../../../')\n",
    "\n",
    "# Get the directory right\n",
    "if IN_COLAB:\n",
    "  from google.colab import drive\n",
    "  drive.mount('/content/drive/')\n",
    "  os.chdir('/content/drive/Shareddrives/AST207/data')\n",
    "else:\n",
    "    os.chdir('../../../_static/ObsAstroData/')"
   ]
  },
  {
   "cell_type": "markdown",
   "id": "d2602a63-1de7-4067-9bf7-ca600e86cde7",
   "metadata": {},
   "source": [
    "## 1. Define your own Merian sample"
   ]
  },
  {
   "cell_type": "code",
   "execution_count": 13,
   "id": "8f0c790d-d405-42af-bbfa-f7af8e97b4c1",
   "metadata": {},
   "outputs": [],
   "source": [
    "cat = Table.read('./merian/cosmos_Merian_DR1_photoz_v1.0.fits')\n",
    "cat = cat[cat['z_desi'] != -99.0]\n",
    "cat = cat[cat['good_desi']] # ensure good DESI spec-z\n",
    "cat = cat[cat['z_desi'] < 2]\n",
    "\n",
    "zp = 31.4\n",
    "for filt in ['g', 'r', 'i', 'N708', 'N540']:\n",
    "    cat[f'mag_{filt}'] = zp - 2.5 * np.log10(cat[f'{filt}_gaap1p0Flux_Merian'])\n",
    "z_spec = cat['z_desi']\n",
    "cat['z_spec'] = z_spec\n",
    "\n",
    "cat_inband = cat[(z_spec < 0.11) & (z_spec > 0.05) & (cat['mag_i'] < 21.5)]\n",
    "cat_inband['ssfr_1p0'] = cat_inband['sfr_1p0'] - cat_inband['mass_1p0']"
   ]
  },
  {
   "cell_type": "code",
   "execution_count": 20,
   "id": "62cb2af2-f6ff-41d3-af30-ffc0e5c604d9",
   "metadata": {},
   "outputs": [
    {
     "data": {
      "text/plain": [
       "Text(0.5, 0, 'i-N708')"
      ]
     },
     "execution_count": 20,
     "metadata": {},
     "output_type": "execute_result"
    },
    {
     "data": {
      "image/png": "[encoded data removed]",
      "text/plain": [
       "<Figure size 1170x270 with 4 Axes>"
      ]
     },
     "metadata": {},
     "output_type": "display_data"
    }
   ],
   "source": [
    "fig, axes = plt.subplots(1, 4, figsize=(13, 3))\n",
    "plt.sca(axes[0])\n",
    "plt.hist(cat_inband['z_spec'])\n",
    "plt.xlabel('Redshift')\n",
    "\n",
    "plt.sca(axes[1])\n",
    "plt.hist(cat_inband['mass_1p0'])\n",
    "plt.xlabel('log M*')\n",
    "\n",
    "plt.sca(axes[2])\n",
    "plt.hist(cat_inband['sfr_1p0'])\n",
    "plt.xlabel('SFR')\n",
    "\n",
    "plt.sca(axes[3])\n",
    "plt.hist(cat_inband['mag_i'] - cat_inband['mag_N708'])\n",
    "plt.xlabel('i-N708')"
   ]
  },
  {
   "cell_type": "code",
   "execution_count": null,
   "id": "7e4992e7-1b05-44c1-aa81-5fec614c5250",
   "metadata": {},
   "outputs": [],
   "source": [
    "# Define your own sample here"
   ]
  },
  {
   "cell_type": "markdown",
   "id": "e4d06e47-eaad-4dd8-a486-bf38a9a53f2f",
   "metadata": {},
   "source": [
    "## 2. Generate H-alpha maps for these galaxies"
   ]
  },
  {
   "cell_type": "markdown",
   "id": "344433e4-5033-4241-98bf-f49918e4dba4",
   "metadata": {},
   "source": [
    "## 3. Measure structural parameters for these galaxies in both i-band and N708 (for majors)"
   ]
  }
 ],
 "metadata": {
  "kernelspec": {
   "display_name": "Python 3 (ipykernel)",
   "language": "python",
   "name": "python3"
  },
  "language_info": {
   "codemirror_mode": {
    "name": "ipython",
    "version": 3
   },
   "file_extension": ".py",
   "mimetype": "text/x-python",
   "name": "python",
   "nbconvert_exporter": "python",
   "pygments_lexer": "ipython3",
   "version": "3.11.9"
  }
 },
 "nbformat": 4,
 "nbformat_minor": 5
}
