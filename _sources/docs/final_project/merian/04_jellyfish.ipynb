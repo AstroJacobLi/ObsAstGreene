{
 "cells": [
  {
   "cell_type": "markdown",
   "id": "94afb643-4129-4a8e-b814-6e15d901a2f4",
   "metadata": {},
   "source": [
    "# Merian project Part 4\n",
    "\n",
    "**Find Jellyfish galaxies in Merian?**"
   ]
  },
  {
   "cell_type": "code",
   "execution_count": 1,
   "id": "e8a4d96d-3604-4eb2-9d0e-80e45f28a243",
   "metadata": {},
   "outputs": [],
   "source": [
    "%load_ext autoreload\n",
    "%autoreload 2\n",
    "import os, sys\n",
    "sys.path.append(os.path.abspath('../../'))\n",
    "import numpy as np\n",
    "import matplotlib.pyplot as plt\n",
    "from astropy.table import Table\n",
    "from astropy.coordinates import SkyCoord\n",
    "from astropy.io import fits\n",
    "from utils import pad_psf, show_image\n",
    "\n",
    "# We can beautify our plots by changing the matpltlib setting a little\n",
    "plt.rcParams['font.size'] = 18\n",
    "plt.rcParams['image.origin'] = 'lower'\n",
    "plt.rcParams['figure.figsize'] = (8, 6)\n",
    "plt.rcParams['figure.dpi'] = 90\n",
    "plt.rcParams['axes.linewidth'] = 2"
   ]
  },
  {
   "cell_type": "markdown",
   "id": "370d447e-db1f-4dde-8585-a38416512d9a",
   "metadata": {},
   "source": [
    "- Download Yang group catalogs: https://gax.sjtu.edu.cn/data/DESI.html\n",
    "- Cross-match with Merian in-band sources"
   ]
  },
  {
   "cell_type": "markdown",
   "id": "5ae7099e-22a9-4a83-b11b-1af2d1ceed78",
   "metadata": {},
   "source": [
    "column 1: group ID\n",
    "column 2: richness\n",
    "column 3: ra\n",
    "column 4: dec\n",
    "column 5: redshift\n",
    "column 6: log M_h/(M_sun/h)\n",
    "column 7: L_group (10^10Lsun/h/h) "
   ]
  },
  {
   "cell_type": "code",
   "execution_count": 70,
   "id": "3aaf5529-52d4-48d6-9327-cf9a390dc7b2",
   "metadata": {},
   "outputs": [
    {
     "data": {
      "text/plain": [
       "48839245"
      ]
     },
     "execution_count": 70,
     "metadata": {},
     "output_type": "execute_result"
    }
   ],
   "source": [
    "data = np.loadtxt('/Users/jiaxuanl/Downloads/DESIDR9_group/DESIDR9_NGC_group')\n",
    "len(data)"
   ]
  },
  {
   "cell_type": "code",
   "execution_count": 71,
   "id": "64c0e456-8d38-4132-832f-c1885e309d67",
   "metadata": {},
   "outputs": [],
   "source": [
    "cols = ['GroupId', 'richness', 'ra', 'dec', 'redshift', 'logMh/h', 'Lgroup']\n",
    "cat = Table(data=data, names=cols)\n",
    "cat = cat[(cat['redshift'] < 0.11) & (cat['redshift'] > 0.04)] # redshift selection"
   ]
  },
  {
   "cell_type": "code",
   "execution_count": 72,
   "id": "4e11d1b4-8964-474a-8996-dcd775824dc7",
   "metadata": {},
   "outputs": [],
   "source": [
    "from utils import Rvir as compute_Rvir\n",
    "from astropy.cosmology import FlatLambdaCDM\n",
    "cosmo = FlatLambdaCDM(70, 0.3, 0.7)\n",
    "h = cosmo.h"
   ]
  },
  {
   "cell_type": "code",
   "execution_count": 73,
   "id": "a16c2b9a-6d5e-4a4c-aa20-e33258e506a5",
   "metadata": {},
   "outputs": [],
   "source": [
    "cat['Rvir'] = compute_Rvir(10**(cat['logMh/h']) * h, z=cat['redshift']) # R200\n",
    "cat['dist_ang_diam'] = cosmo.angular_diameter_distance(cat['redshift']).value\n",
    "cat['Rvir_ang'] = np.rad2deg(cat['Rvir'] / cat['dist_ang_diam'] / 1000) # deg"
   ]
  },
  {
   "cell_type": "code",
   "execution_count": 78,
   "id": "df28cf69-b1cc-4000-99c6-87fa1813cedc",
   "metadata": {},
   "outputs": [
    {
     "data": {
      "text/plain": [
       "0.4528880301268168"
      ]
     },
     "execution_count": 78,
     "metadata": {},
     "output_type": "execute_result"
    }
   ],
   "source": [
    "np.max(cat['Rvir_ang'])"
   ]
  },
  {
   "cell_type": "code",
   "execution_count": 75,
   "id": "7c44676d-245d-4100-b77f-255236f93b7f",
   "metadata": {},
   "outputs": [],
   "source": [
    "cat.write('/Users/jiaxuanl/Downloads/DESIDR9_group/NGC_group_inband.fits')"
   ]
  },
  {
   "cell_type": "code",
   "execution_count": null,
   "id": "c8d67a54-86cb-40da-9251-2cbea4c9a7c4",
   "metadata": {},
   "outputs": [],
   "source": []
  },
  {
   "cell_type": "code",
   "execution_count": 127,
   "id": "2f614e7b-e11c-450e-890d-9c87ed370ac2",
   "metadata": {},
   "outputs": [],
   "source": [
    "def merian_footprint(ra, dec):\n",
    "    if (ra > ((14 + 30/60) * u.hourangle).to(u.deg).value) & (ra < ((15 + 5/60) * u.hourangle).to(u.deg).value) & (dec < 0.6) & (dec > -2):\n",
    "        return True\n",
    "    elif (ra > ((11 + 30/60) * u.hourangle).to(u.deg).value) & (ra < ((12 + 35/60) * u.hourangle).to(u.deg).value) & (dec < 4.5) & (dec > 0):\n",
    "        return True\n",
    "    elif (ra > ((11 + 5/60) * u.hourangle).to(u.deg).value) & (ra < ((11 + 55/60) * u.hourangle).to(u.deg).value) & (dec < 0.5) & (dec > -2.5):\n",
    "        return True\n",
    "    elif (ra > ((9) * u.hourangle).to(u.deg).value) & (ra < ((10 + 50/60) * u.hourangle).to(u.deg).value) & (dec < 5.5) & (dec > -2.5):\n",
    "        return True\n",
    "    elif (ra > ((22 + 35/60) * u.hourangle).to(u.deg).value) & (ra < ((23 + 5/60) * u.hourangle).to(u.deg).value) & (dec < 4) & (dec > -0.5):\n",
    "        return True\n",
    "    elif (ra > ((23 + 30/60) * u.hourangle).to(u.deg).value) | (ra < ((12/60) * u.hourangle).to(u.deg).value) & (dec < 2.5) & (dec > -0.5):\n",
    "        return True\n",
    "    elif (ra > ((2 + 5/60) * u.hourangle).to(u.deg).value) | (ra < ((2 + 45/60) * u.hourangle).to(u.deg).value) & (dec < -2.7) & (dec > -7):\n",
    "        return True\n",
    "    else:\n",
    "        return False"
   ]
  },
  {
   "cell_type": "code",
   "execution_count": 113,
   "id": "5d460e3d-06dc-4772-bf25-03d881ccf403",
   "metadata": {},
   "outputs": [],
   "source": [
    "cat = Table.read('/Users/jiaxuanl/Downloads/DESIDR9_group/NGC_group_inband.fits')\n",
    "cat = cat[(cat['dec'] > -3) & (cat['dec'] < 6)]\n",
    "overlap = []\n",
    "for obj in cat:\n",
    "    overlap.append(merian_footprint(obj['ra'], obj['dec']))\n",
    "cat['overlap_with_mer'] = overlap\n",
    "cat = cat[cat['overlap_with_mer']]\n",
    "cat.write('/Users/jiaxuanl/Downloads/DESIDR9_group/NGC_group_inband_overlap.fits')"
   ]
  },
  {
   "cell_type": "code",
   "execution_count": 125,
   "id": "2f0115aa-e128-4572-904a-a28d71975d8b",
   "metadata": {},
   "outputs": [],
   "source": []
  },
  {
   "cell_type": "code",
   "execution_count": 128,
   "id": "e96e51e7-d7a1-46b2-9528-60916053e026",
   "metadata": {},
   "outputs": [],
   "source": [
    "cat = Table.read('/Users/jiaxuanl/Downloads/DESIDR9_group/SGC_group_inband.fits')\n",
    "cat = cat[(cat['dec'] > -7) & (cat['dec'] < 3)]\n",
    "overlap = []\n",
    "for obj in cat:\n",
    "    overlap.append(merian_footprint(obj['ra'], obj['dec']))\n",
    "cat['overlap_with_mer'] = overlap\n",
    "cat = cat[cat['overlap_with_mer']]\n",
    "cat.write('/Users/jiaxuanl/Downloads/DESIDR9_group/SGC_group_inband_overlap.fits')"
   ]
  },
  {
   "cell_type": "code",
   "execution_count": null,
   "id": "e8f32a70-d43c-4a48-8ff4-cb3344a83056",
   "metadata": {},
   "outputs": [],
   "source": []
  },
  {
   "cell_type": "code",
   "execution_count": null,
   "id": "aa4712b1-2ba7-419f-8ac8-079522ec03f9",
   "metadata": {},
   "outputs": [],
   "source": []
  },
  {
   "cell_type": "markdown",
   "id": "ca96c0c9-1402-44e6-9992-1f06b1ff677c",
   "metadata": {},
   "source": [
    "---"
   ]
  },
  {
   "cell_type": "code",
   "execution_count": 129,
   "id": "d66bfabb-d01f-4973-b3cc-53213b65a5d3",
   "metadata": {},
   "outputs": [],
   "source": [
    "import astropy.units as u"
   ]
  },
  {
   "cell_type": "code",
   "execution_count": 153,
   "id": "c0fc27df-2331-4d2b-a1b5-f159cae65d32",
   "metadata": {},
   "outputs": [],
   "source": [
    "mer_cat = Table.read('/Users/jiaxuanl/Downloads/Merian_DR1_photoz_EAZY_v2.0.fits')\n",
    "mer_cat = mer_cat[mer_cat['z_spec'] > 0] # only spec-z sample\n",
    "coords = np.array([mer_cat['coord_ra_Merian'], mer_cat['coord_dec_Merian']])"
   ]
  },
  {
   "cell_type": "code",
   "execution_count": 154,
   "id": "f501b990-b5ad-41b9-9bdf-f7bfa444fba8",
   "metadata": {},
   "outputs": [],
   "source": [
    "cat = Table.read('/Users/jiaxuanl/Downloads/DESIDR9_group/SGC_group_inband_overlap.fits')"
   ]
  },
  {
   "cell_type": "code",
   "execution_count": 156,
   "id": "aeaa0ec1-d750-4195-bb4c-2d82429b63a2",
   "metadata": {},
   "outputs": [],
   "source": [
    "from tqdm import trange"
   ]
  },
  {
   "cell_type": "code",
   "execution_count": 157,
   "id": "ed2fce4e-d63b-46bd-8c30-5ff4373af7d8",
   "metadata": {},
   "outputs": [
    {
     "name": "stderr",
     "output_type": "stream",
     "text": [
      "100%|███████████████████████████████████████████████████████████████████████████████████████████████████| 94692/94692 [02:30<00:00, 627.65it/s]\n"
     ]
    }
   ],
   "source": [
    "# A crude match\n",
    "matched = []\n",
    "for i in trange(len(cat)):\n",
    "    host = cat[i]\n",
    "    diff = np.sqrt((coords[0] - host['ra'])**2 + (coords[1] - host['dec'])**2)\n",
    "    if np.sum(diff < 0.5):\n",
    "        matched.append(True)\n",
    "    else:\n",
    "        matched.append(False)"
   ]
  },
  {
   "cell_type": "code",
   "execution_count": 158,
   "id": "0ffd304b-36b3-45ae-b00c-ee37b49b1e95",
   "metadata": {},
   "outputs": [],
   "source": [
    "cat['matched_crude'] = matched"
   ]
  },
  {
   "cell_type": "code",
   "execution_count": 162,
   "id": "1587e187-2d79-42ce-9c91-4ff38db62f3b",
   "metadata": {},
   "outputs": [],
   "source": [
    "cat.write('/Users/jiaxuanl/Downloads/DESIDR9_group/SGC_group_inband_overlap.fits', overwrite=True)"
   ]
  },
  {
   "cell_type": "markdown",
   "id": "c9ded841-cf3d-449d-b2f1-b5b269ba1399",
   "metadata": {},
   "source": [
    "---"
   ]
  },
  {
   "cell_type": "code",
   "execution_count": 165,
   "id": "ce24d9ec-51d6-43f0-b8fd-3461e5b3bb6e",
   "metadata": {},
   "outputs": [],
   "source": [
    "# Now we do a good match"
   ]
  },
  {
   "cell_type": "code",
   "execution_count": 196,
   "id": "fdc5f300-7e24-4672-9077-6bc4590fa8f5",
   "metadata": {},
   "outputs": [],
   "source": [
    "cat = Table.read('/Users/jiaxuanl/Downloads/DESIDR9_group/SGC_group_inband_overlap.fits')\n",
    "cat = cat[cat['matched_crude']]\n",
    "host_coords = SkyCoord(cat['ra'], cat['dec'], unit='deg')"
   ]
  },
  {
   "cell_type": "code",
   "execution_count": 197,
   "id": "e56d4ee2-3dc6-4528-89f1-2bdcc8d8fe6b",
   "metadata": {},
   "outputs": [],
   "source": [
    "mer_cat = Table.read('/Users/jiaxuanl/Downloads/Merian_DR1_photoz_EAZY_v2.0.fits')\n",
    "mer_cat = mer_cat[(mer_cat['z_spec'] > 0.05) & (mer_cat['z_spec'] < 0.11)] # only spec-z sample\n",
    "coords = SkyCoord(mer_cat['coord_ra_Merian'], mer_cat['coord_dec_Merian'], unit='deg')"
   ]
  },
  {
   "cell_type": "code",
   "execution_count": null,
   "id": "79c5b5ae-e0b1-4540-9491-dc3ec45d78f7",
   "metadata": {},
   "outputs": [],
   "source": []
  },
  {
   "cell_type": "code",
   "execution_count": 244,
   "id": "a4ca9805-1ae2-4dea-884f-9867930ac669",
   "metadata": {},
   "outputs": [
    {
     "name": "stderr",
     "output_type": "stream",
     "text": [
      "100%|██████████████████████████████████████████████████████████████████████████████████████████████████████████| 3/3 [00:00<00:00, 1105.90it/s]\n"
     ]
    }
   ],
   "source": [
    "# A crude match\n",
    "matched = []\n",
    "for i in trange(len(cat[:3])):\n",
    "    host = cat[i]\n",
    "    host_coord = host_coords[i]"
   ]
  },
  {
   "cell_type": "code",
   "execution_count": null,
   "id": "7e151cb7-6ee2-4eb7-9951-fd9b977408a8",
   "metadata": {},
   "outputs": [],
   "source": []
  },
  {
   "cell_type": "code",
   "execution_count": 245,
   "id": "c7d83f17-2a2c-49fa-b062-da31802ab91b",
   "metadata": {},
   "outputs": [],
   "source": [
    "temp = mer_cat[host_coord.separation(coords) < host['Rvir_ang'] * u.deg * 2]"
   ]
  },
  {
   "cell_type": "code",
   "execution_count": 246,
   "id": "1935f2c8-c469-4eb8-972e-c5209d146990",
   "metadata": {},
   "outputs": [
    {
     "data": {
      "text/html": [
       "<i>Row index=2</i>\n",
       "<table id=\"table5539318864\">\n",
       "<thead><tr><th>GroupId</th><th>richness</th><th>ra</th><th>dec</th><th>redshift</th><th>logMh/h</th><th>Lgroup</th><th>Rvir</th><th>dist_ang_diam</th><th>Rvir_ang</th><th>overlap_with_mer</th><th>matched_crude</th></tr></thead>\n",
       "<thead><tr><th>float64</th><th>float64</th><th>float64</th><th>float64</th><th>float64</th><th>float64</th><th>float64</th><th>float64</th><th>float64</th><th>float64</th><th>bool</th><th>bool</th></tr></thead>\n",
       "<tr><td>20816.0</td><td>31.0</td><td>359.9805</td><td>0.7092</td><td>0.0824</td><td>13.7509</td><td>15.221</td><td>684.3423577943619</td><td>319.89126558479563</td><td>0.12257267722508362</td><td>True</td><td>True</td></tr>\n",
       "</table>"
      ],
      "text/plain": [
       "<Row index=2>\n",
       "GroupId richness    ra      dec   redshift logMh/h  Lgroup        Rvir         dist_ang_diam          Rvir_ang      overlap_with_mer matched_crude\n",
       "float64 float64  float64  float64 float64  float64 float64      float64           float64             float64             bool            bool    \n",
       "------- -------- -------- ------- -------- ------- ------- ----------------- ------------------ ------------------- ---------------- -------------\n",
       "20816.0     31.0 359.9805  0.7092   0.0824 13.7509  15.221 684.3423577943619 319.89126558479563 0.12257267722508362             True          True"
      ]
     },
     "execution_count": 246,
     "metadata": {},
     "output_type": "execute_result"
    }
   ],
   "source": [
    "host"
   ]
  },
  {
   "cell_type": "code",
   "execution_count": 247,
   "id": "237404e5-64f3-48da-8ab1-f03594a8714c",
   "metadata": {},
   "outputs": [],
   "source": [
    "temp = temp[np.abs(temp['z_spec'] - host['redshift']) < 0.005]"
   ]
  },
  {
   "cell_type": "code",
   "execution_count": 248,
   "id": "149438d0-2b69-45dc-911e-c9d38e494015",
   "metadata": {},
   "outputs": [],
   "source": [
    "temp.sort('logssfr', reverse=True)"
   ]
  },
  {
   "cell_type": "markdown",
   "id": "814fddf7-2a06-4f4c-a163-3e9b11507aed",
   "metadata": {},
   "source": [
    "https://www.legacysurvey.org/viewer-merian/?ra=36.8502&dec=-4.6100&layer=merian-n708&zoom=14\n",
    "\n",
    "https://www.legacysurvey.org/viewer-merian/?ra=36.5884&dec=-4.5815&layer=merian-n708&zoom=15&spectra"
   ]
  },
  {
   "cell_type": "code",
   "execution_count": 249,
   "id": "8f724aab-6b65-4070-a1cf-42655ea597fd",
   "metadata": {},
   "outputs": [],
   "source": [
    "_coords = list(zip(temp['coord_ra_Merian'], temp['coord_dec_Merian']))"
   ]
  },
  {
   "cell_type": "code",
   "execution_count": 250,
   "id": "991739a7-0c3a-410e-97a1-b6425d0ae0fb",
   "metadata": {},
   "outputs": [
    {
     "data": {
      "text/html": [
       "<i>Row index=2</i>\n",
       "<table id=\"table5539318864\">\n",
       "<thead><tr><th>GroupId</th><th>richness</th><th>ra</th><th>dec</th><th>redshift</th><th>logMh/h</th><th>Lgroup</th><th>Rvir</th><th>dist_ang_diam</th><th>Rvir_ang</th><th>overlap_with_mer</th><th>matched_crude</th></tr></thead>\n",
       "<thead><tr><th>float64</th><th>float64</th><th>float64</th><th>float64</th><th>float64</th><th>float64</th><th>float64</th><th>float64</th><th>float64</th><th>float64</th><th>bool</th><th>bool</th></tr></thead>\n",
       "<tr><td>20816.0</td><td>31.0</td><td>359.9805</td><td>0.7092</td><td>0.0824</td><td>13.7509</td><td>15.221</td><td>684.3423577943619</td><td>319.89126558479563</td><td>0.12257267722508362</td><td>True</td><td>True</td></tr>\n",
       "</table>"
      ],
      "text/plain": [
       "<Row index=2>\n",
       "GroupId richness    ra      dec   redshift logMh/h  Lgroup        Rvir         dist_ang_diam          Rvir_ang      overlap_with_mer matched_crude\n",
       "float64 float64  float64  float64 float64  float64 float64      float64           float64             float64             bool            bool    \n",
       "------- -------- -------- ------- -------- ------- ------- ----------------- ------------------ ------------------- ---------------- -------------\n",
       "20816.0     31.0 359.9805  0.7092   0.0824 13.7509  15.221 684.3423577943619 319.89126558479563 0.12257267722508362             True          True"
      ]
     },
     "execution_count": 250,
     "metadata": {},
     "output_type": "execute_result"
    }
   ],
   "source": [
    "host"
   ]
  },
  {
   "cell_type": "code",
   "execution_count": 251,
   "id": "e608bcb7-725f-4e73-83f0-94b4848a3ce8",
   "metadata": {},
   "outputs": [
    {
     "name": "stdout",
     "output_type": "stream",
     "text": [
      "359.96963915709904 0.7884811243229983\n",
      "359.9000862798947 0.660487616064779\n",
      "0.11925533981871615 0.8686651212212566\n",
      "359.9406592755138 0.5612277874125536\n",
      "359.91432437175825 0.5482277871904233\n",
      "359.98129777617896 0.511763902086426\n",
      "0.03854539303448809 0.4994679292812817\n",
      "359.9504680821944 0.5437886286924508\n",
      "0.05312900462464046 0.7792560809423572\n",
      "0.05416378941876752 0.6652387823667287\n",
      "359.9703258778549 0.5683135810528785\n",
      "0.02007779501564437 0.7072678762340359\n",
      "359.8552534498021 0.514607991298166\n",
      "0.20231659291958623 0.7858998340468856\n",
      "359.9948217512045 0.8029436691339366\n",
      "359.8769118938474 0.6459623548255432\n",
      "0.061487925905849165 0.6745439387543991\n",
      "359.9351812299156 0.7311720428427038\n",
      "359.96725347829 0.671611593331686\n",
      "359.8548429206459 0.9101984641120517\n",
      "359.93711073840063 0.7786508299203796\n",
      "0.03536915522193219 0.7657932142663084\n",
      "359.80642652661396 0.7288211017544747\n",
      "0.02767487976674932 0.7451508772114019\n",
      "359.9397399023481 0.6401669816347338\n",
      "0.019795180628478404 0.7817126563084782\n"
     ]
    }
   ],
   "source": [
    "for item in temp:\n",
    "    print(item['coord_ra_Merian'], item['coord_dec_Merian'])"
   ]
  },
  {
   "cell_type": "code",
   "execution_count": null,
   "id": "fe292ba7-2649-4a8f-b15f-490bc05a1f09",
   "metadata": {},
   "outputs": [],
   "source": []
  },
  {
   "cell_type": "code",
   "execution_count": null,
   "id": "047fde2a-82e4-4efc-bbfa-8726ab9b8fdf",
   "metadata": {},
   "outputs": [],
   "source": []
  },
  {
   "cell_type": "code",
   "execution_count": null,
   "id": "15f7a86b-6b84-45ca-920e-e83a9dfe1466",
   "metadata": {},
   "outputs": [],
   "source": []
  }
 ],
 "metadata": {
  "kernelspec": {
   "display_name": "Python 3 (ipykernel)",
   "language": "python",
   "name": "python3"
  },
  "language_info": {
   "codemirror_mode": {
    "name": "ipython",
    "version": 3
   },
   "file_extension": ".py",
   "mimetype": "text/x-python",
   "name": "python",
   "nbconvert_exporter": "python",
   "pygments_lexer": "ipython3",
   "version": "3.11.9"
  }
 },
 "nbformat": 4,
 "nbformat_minor": 5
}
