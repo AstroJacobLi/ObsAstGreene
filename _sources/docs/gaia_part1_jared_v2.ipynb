{
 "cells": [
  {
   "cell_type": "markdown",
   "id": "36adbbb7",
   "metadata": {
    "editable": true,
    "id": "36adbbb7",
    "slideshow": {
     "slide_type": ""
    },
    "tags": []
   },
   "source": [
    "# Understand stars in Gaia data (instructor version)\n",
    "\n",
    "**Prerequisites**\n",
    "- $\\texttt{numpy}$, $\\texttt{matplotlib}$, and Basic Stats.\n",
    "\n",
    "**New $\\texttt{python}$ skills**\n",
    "- $\\texttt{pandas}$: a package for loading and manipulating tables of data (you can think of this as $\\texttt{python}$'s version of Excel or google sheets).\n",
    "\n",
    "**Astro concepts**\n",
    "\n",
    "* The Gaia mission\n",
    "* Magnitude and absolute magnitude scales\n",
    "* Basic properties of stars: radius, temperature, color, etc."
   ]
  },
  {
   "cell_type": "code",
   "execution_count": 12,
   "id": "549c4945",
   "metadata": {
    "executionInfo": {
     "elapsed": 342,
     "status": "ok",
     "timestamp": 1737560963029,
     "user": {
      "displayName": "Jared Siegel",
      "userId": "02704458627269853296"
     },
     "user_tz": 300
    },
    "id": "549c4945"
   },
   "outputs": [],
   "source": [
    "# Let's start with importing our packages\n",
    "import numpy as np\n",
    "import pandas as pd\n",
    "import matplotlib\n",
    "import matplotlib.pyplot as plt\n",
    "\n",
    "# We can beautify our plots by changing the matplotlib settings a little\n",
    "plt.rcParams['font.size'] = 18\n",
    "matplotlib.rcParams['axes.linewidth'] = 2\n",
    "matplotlib.rcParams['font.family'] = \"serif\""
   ]
  },
  {
   "cell_type": "markdown",
   "id": "25b4f521",
   "metadata": {
    "id": "25b4f521"
   },
   "source": [
    "# 1. Reading a table with $\\texttt{pandas}$"
   ]
  },
  {
   "cell_type": "code",
   "execution_count": 13,
   "id": "trH-tt0-lZkZ",
   "metadata": {
    "colab": {
     "base_uri": "https://localhost:8080/"
    },
    "executionInfo": {
     "elapsed": 2060,
     "status": "ok",
     "timestamp": 1737560965086,
     "user": {
      "displayName": "Jared Siegel",
      "userId": "02704458627269853296"
     },
     "user_tz": 300
    },
    "id": "trH-tt0-lZkZ",
    "outputId": "025586b6-c116-44a6-f61b-c47a4cedce6a"
   },
   "outputs": [
    {
     "name": "stdout",
     "output_type": "stream",
     "text": [
      "Drive already mounted at /content/drive/; to attempt to forcibly remount, call drive.mount(\"/content/drive/\", force_remount=True).\n"
     ]
    }
   ],
   "source": [
    "# Let's load in the data\n",
    "import os\n",
    "from google.colab import drive\n",
    "from astropy.table import Table\n",
    "\n",
    "drive.mount('/content/drive/')\n",
    "os.chdir('/content/drive/Shareddrives/AST207/data')\n",
    "\n",
    "gaia = pd.read_csv('./gaia_15pc.csv',index_col=[0])"
   ]
  },
  {
   "cell_type": "markdown",
   "id": "62a9c901",
   "metadata": {
    "id": "62a9c901"
   },
   "source": [
    "### What's in the table and how can we access it?"
   ]
  },
  {
   "cell_type": "code",
   "execution_count": 14,
   "id": "3b2c728e",
   "metadata": {
    "colab": {
     "base_uri": "https://localhost:8080/",
     "height": 204
    },
    "executionInfo": {
     "elapsed": 16,
     "status": "ok",
     "timestamp": 1737560965086,
     "user": {
      "displayName": "Jared Siegel",
      "userId": "02704458627269853296"
     },
     "user_tz": 300
    },
    "id": "3b2c728e",
    "outputId": "53d67db2-089c-47f2-80a2-0747a1b87083"
   },
   "outputs": [
    {
     "data": {
      "application/vnd.google.colaboratory.intrinsic+json": {
       "summary": "{\n  \"name\": \"gaia\",\n  \"rows\": 506,\n  \"fields\": [\n    {\n      \"column\": \"radius\",\n      \"properties\": {\n        \"dtype\": \"number\",\n        \"std\": 0.32731419871629447,\n        \"min\": 0.1395,\n        \"max\": 1.9068,\n        \"num_unique_values\": 490,\n        \"samples\": [\n          0.1707,\n          0.769,\n          1.0459\n        ],\n        \"semantic_type\": \"\",\n        \"description\": \"\"\n      }\n    },\n    {\n      \"column\": \"teff\",\n      \"properties\": {\n        \"dtype\": \"number\",\n        \"std\": 959.1006051372523,\n        \"min\": 2808.6016,\n        \"max\": 7498.3286,\n        \"num_unique_values\": 506,\n        \"samples\": [\n          5184.4775,\n          3630.5886,\n          3546.7683\n        ],\n        \"semantic_type\": \"\",\n        \"description\": \"\"\n      }\n    },\n    {\n      \"column\": \"distance\",\n      \"properties\": {\n        \"dtype\": \"number\",\n        \"std\": 3.010640778889378,\n        \"min\": 1.3011,\n        \"max\": 14.9923,\n        \"num_unique_values\": 504,\n        \"samples\": [\n          12.5796,\n          13.314,\n          10.4702\n        ],\n        \"semantic_type\": \"\",\n        \"description\": \"\"\n      }\n    },\n    {\n      \"column\": \"gmag\",\n      \"properties\": {\n        \"dtype\": \"number\",\n        \"std\": 2.6701059673786536,\n        \"min\": 3.0879216,\n        \"max\": 14.384546,\n        \"num_unique_values\": 506,\n        \"samples\": [\n          5.732681,\n          9.315714,\n          9.177887\n        ],\n        \"semantic_type\": \"\",\n        \"description\": \"\"\n      }\n    },\n    {\n      \"column\": \"rmag\",\n      \"properties\": {\n        \"dtype\": \"number\",\n        \"std\": 2.4116216824192414,\n        \"min\": 2.7081478,\n        \"max\": 12.998102,\n        \"num_unique_values\": 506,\n        \"samples\": [\n          5.1470094,\n          8.27646,\n          8.120326\n        ],\n        \"semantic_type\": \"\",\n        \"description\": \"\"\n      }\n    },\n    {\n      \"column\": \"bmag\",\n      \"properties\": {\n        \"dtype\": \"number\",\n        \"std\": 3.1880842323317427,\n        \"min\": 3.4182682,\n        \"max\": 16.769222,\n        \"num_unique_values\": 506,\n        \"samples\": [\n          6.155681,\n          10.405985,\n          10.293622\n        ],\n        \"semantic_type\": \"\",\n        \"description\": \"\"\n      }\n    },\n    {\n      \"column\": \"ecl_lon\",\n      \"properties\": {\n        \"dtype\": \"number\",\n        \"std\": 101.05039965949094,\n        \"min\": 0.444623430862922,\n        \"max\": 359.37946843970417,\n        \"num_unique_values\": 506,\n        \"samples\": [\n          127.7306466533782,\n          81.9775831561774,\n          255.6697642058149\n        ],\n        \"semantic_type\": \"\",\n        \"description\": \"\"\n      }\n    },\n    {\n      \"column\": \"ecl_lat\",\n      \"properties\": {\n        \"dtype\": \"number\",\n        \"std\": 40.329889524272545,\n        \"min\": -86.63489768565604,\n        \"max\": 87.68764152821672,\n        \"num_unique_values\": 506,\n        \"samples\": [\n          10.36550427987805,\n          22.694662067577184,\n          17.661243461353198\n        ],\n        \"semantic_type\": \"\",\n        \"description\": \"\"\n      }\n    }\n  ]\n}",
       "type": "dataframe",
       "variable_name": "gaia"
      },
      "text/html": [
       "\n",
       "  <div id=\"df-0cc3ef0f-5b26-497e-9a1c-868cc34c8ecc\" class=\"colab-df-container\">\n",
       "    <div>\n",
       "<style scoped>\n",
       "    .dataframe tbody tr th:only-of-type {\n",
       "        vertical-align: middle;\n",
       "    }\n",
       "\n",
       "    .dataframe tbody tr th {\n",
       "        vertical-align: top;\n",
       "    }\n",
       "\n",
       "    .dataframe thead th {\n",
       "        text-align: right;\n",
       "    }\n",
       "</style>\n",
       "<table border=\"1\" class=\"dataframe\">\n",
       "  <thead>\n",
       "    <tr style=\"text-align: right;\">\n",
       "      <th></th>\n",
       "      <th>radius</th>\n",
       "      <th>teff</th>\n",
       "      <th>distance</th>\n",
       "      <th>gmag</th>\n",
       "      <th>rmag</th>\n",
       "      <th>bmag</th>\n",
       "      <th>ecl_lon</th>\n",
       "      <th>ecl_lat</th>\n",
       "    </tr>\n",
       "  </thead>\n",
       "  <tbody>\n",
       "    <tr>\n",
       "      <th>0</th>\n",
       "      <td>0.5023</td>\n",
       "      <td>3224.9536</td>\n",
       "      <td>13.3978</td>\n",
       "      <td>10.241307</td>\n",
       "      <td>9.135763</td>\n",
       "      <td>11.498909</td>\n",
       "      <td>279.484182</td>\n",
       "      <td>8.627836</td>\n",
       "    </tr>\n",
       "    <tr>\n",
       "      <th>1</th>\n",
       "      <td>0.4488</td>\n",
       "      <td>3508.4785</td>\n",
       "      <td>13.5867</td>\n",
       "      <td>10.019066</td>\n",
       "      <td>8.943984</td>\n",
       "      <td>11.186045</td>\n",
       "      <td>63.836273</td>\n",
       "      <td>38.387682</td>\n",
       "    </tr>\n",
       "    <tr>\n",
       "      <th>2</th>\n",
       "      <td>0.4814</td>\n",
       "      <td>3310.7295</td>\n",
       "      <td>13.5787</td>\n",
       "      <td>10.193903</td>\n",
       "      <td>9.102655</td>\n",
       "      <td>11.395733</td>\n",
       "      <td>63.836924</td>\n",
       "      <td>38.388986</td>\n",
       "    </tr>\n",
       "    <tr>\n",
       "      <th>3</th>\n",
       "      <td>0.6412</td>\n",
       "      <td>3473.9587</td>\n",
       "      <td>7.0383</td>\n",
       "      <td>7.756715</td>\n",
       "      <td>6.747296</td>\n",
       "      <td>8.790974</td>\n",
       "      <td>7.104283</td>\n",
       "      <td>71.152618</td>\n",
       "    </tr>\n",
       "    <tr>\n",
       "      <th>4</th>\n",
       "      <td>0.4892</td>\n",
       "      <td>3155.9285</td>\n",
       "      <td>8.5053</td>\n",
       "      <td>9.495382</td>\n",
       "      <td>8.347611</td>\n",
       "      <td>10.836117</td>\n",
       "      <td>249.618870</td>\n",
       "      <td>-15.836896</td>\n",
       "    </tr>\n",
       "  </tbody>\n",
       "</table>\n",
       "</div>\n",
       "    <div class=\"colab-df-buttons\">\n",
       "\n",
       "  <div class=\"colab-df-container\">\n",
       "    <button class=\"colab-df-convert\" onclick=\"convertToInteractive('df-0cc3ef0f-5b26-497e-9a1c-868cc34c8ecc')\"\n",
       "            title=\"Convert this dataframe to an interactive table.\"\n",
       "            style=\"display:none;\">\n",
       "\n",
       "  <svg xmlns=\"http://www.w3.org/2000/svg\" height=\"24px\" viewBox=\"0 -960 960 960\">\n",
       "    <path d=\"M120-120v-720h720v720H120Zm60-500h600v-160H180v160Zm220 220h160v-160H400v160Zm0 220h160v-160H400v160ZM180-400h160v-160H180v160Zm440 0h160v-160H620v160ZM180-180h160v-160H180v160Zm440 0h160v-160H620v160Z\"/>\n",
       "  </svg>\n",
       "    </button>\n",
       "\n",
       "  <style>\n",
       "    .colab-df-container {\n",
       "      display:flex;\n",
       "      gap: 12px;\n",
       "    }\n",
       "\n",
       "    .colab-df-convert {\n",
       "      background-color: #E8F0FE;\n",
       "      border: none;\n",
       "      border-radius: 50%;\n",
       "      cursor: pointer;\n",
       "      display: none;\n",
       "      fill: #1967D2;\n",
       "      height: 32px;\n",
       "      padding: 0 0 0 0;\n",
       "      width: 32px;\n",
       "    }\n",
       "\n",
       "    .colab-df-convert:hover {\n",
       "      background-color: #E2EBFA;\n",
       "      box-shadow: 0px 1px 2px rgba(60, 64, 67, 0.3), 0px 1px 3px 1px rgba(60, 64, 67, 0.15);\n",
       "      fill: #174EA6;\n",
       "    }\n",
       "\n",
       "    .colab-df-buttons div {\n",
       "      margin-bottom: 4px;\n",
       "    }\n",
       "\n",
       "    [theme=dark] .colab-df-convert {\n",
       "      background-color: #3B4455;\n",
       "      fill: #D2E3FC;\n",
       "    }\n",
       "\n",
       "    [theme=dark] .colab-df-convert:hover {\n",
       "      background-color: #434B5C;\n",
       "      box-shadow: 0px 1px 3px 1px rgba(0, 0, 0, 0.15);\n",
       "      filter: drop-shadow(0px 1px 2px rgba(0, 0, 0, 0.3));\n",
       "      fill: #FFFFFF;\n",
       "    }\n",
       "  </style>\n",
       "\n",
       "    <script>\n",
       "      const buttonEl =\n",
       "        document.querySelector('#df-0cc3ef0f-5b26-497e-9a1c-868cc34c8ecc button.colab-df-convert');\n",
       "      buttonEl.style.display =\n",
       "        google.colab.kernel.accessAllowed ? 'block' : 'none';\n",
       "\n",
       "      async function convertToInteractive(key) {\n",
       "        const element = document.querySelector('#df-0cc3ef0f-5b26-497e-9a1c-868cc34c8ecc');\n",
       "        const dataTable =\n",
       "          await google.colab.kernel.invokeFunction('convertToInteractive',\n",
       "                                                    [key], {});\n",
       "        if (!dataTable) return;\n",
       "\n",
       "        const docLinkHtml = 'Like what you see? Visit the ' +\n",
       "          '<a target=\"_blank\" href=https://colab.research.google.com/notebooks/data_table.ipynb>data table notebook</a>'\n",
       "          + ' to learn more about interactive tables.';\n",
       "        element.innerHTML = '';\n",
       "        dataTable['output_type'] = 'display_data';\n",
       "        await google.colab.output.renderOutput(dataTable, element);\n",
       "        const docLink = document.createElement('div');\n",
       "        docLink.innerHTML = docLinkHtml;\n",
       "        element.appendChild(docLink);\n",
       "      }\n",
       "    </script>\n",
       "  </div>\n",
       "\n",
       "\n",
       "<div id=\"df-6a93bbd3-0612-4eac-9b74-8c9a2c05d30d\">\n",
       "  <button class=\"colab-df-quickchart\" onclick=\"quickchart('df-6a93bbd3-0612-4eac-9b74-8c9a2c05d30d')\"\n",
       "            title=\"Suggest charts\"\n",
       "            style=\"display:none;\">\n",
       "\n",
       "<svg xmlns=\"http://www.w3.org/2000/svg\" height=\"24px\"viewBox=\"0 0 24 24\"\n",
       "     width=\"24px\">\n",
       "    <g>\n",
       "        <path d=\"M19 3H5c-1.1 0-2 .9-2 2v14c0 1.1.9 2 2 2h14c1.1 0 2-.9 2-2V5c0-1.1-.9-2-2-2zM9 17H7v-7h2v7zm4 0h-2V7h2v10zm4 0h-2v-4h2v4z\"/>\n",
       "    </g>\n",
       "</svg>\n",
       "  </button>\n",
       "\n",
       "<style>\n",
       "  .colab-df-quickchart {\n",
       "      --bg-color: #E8F0FE;\n",
       "      --fill-color: #1967D2;\n",
       "      --hover-bg-color: #E2EBFA;\n",
       "      --hover-fill-color: #174EA6;\n",
       "      --disabled-fill-color: #AAA;\n",
       "      --disabled-bg-color: #DDD;\n",
       "  }\n",
       "\n",
       "  [theme=dark] .colab-df-quickchart {\n",
       "      --bg-color: #3B4455;\n",
       "      --fill-color: #D2E3FC;\n",
       "      --hover-bg-color: #434B5C;\n",
       "      --hover-fill-color: #FFFFFF;\n",
       "      --disabled-bg-color: #3B4455;\n",
       "      --disabled-fill-color: #666;\n",
       "  }\n",
       "\n",
       "  .colab-df-quickchart {\n",
       "    background-color: var(--bg-color);\n",
       "    border: none;\n",
       "    border-radius: 50%;\n",
       "    cursor: pointer;\n",
       "    display: none;\n",
       "    fill: var(--fill-color);\n",
       "    height: 32px;\n",
       "    padding: 0;\n",
       "    width: 32px;\n",
       "  }\n",
       "\n",
       "  .colab-df-quickchart:hover {\n",
       "    background-color: var(--hover-bg-color);\n",
       "    box-shadow: 0 1px 2px rgba(60, 64, 67, 0.3), 0 1px 3px 1px rgba(60, 64, 67, 0.15);\n",
       "    fill: var(--button-hover-fill-color);\n",
       "  }\n",
       "\n",
       "  .colab-df-quickchart-complete:disabled,\n",
       "  .colab-df-quickchart-complete:disabled:hover {\n",
       "    background-color: var(--disabled-bg-color);\n",
       "    fill: var(--disabled-fill-color);\n",
       "    box-shadow: none;\n",
       "  }\n",
       "\n",
       "  .colab-df-spinner {\n",
       "    border: 2px solid var(--fill-color);\n",
       "    border-color: transparent;\n",
       "    border-bottom-color: var(--fill-color);\n",
       "    animation:\n",
       "      spin 1s steps(1) infinite;\n",
       "  }\n",
       "\n",
       "  @keyframes spin {\n",
       "    0% {\n",
       "      border-color: transparent;\n",
       "      border-bottom-color: var(--fill-color);\n",
       "      border-left-color: var(--fill-color);\n",
       "    }\n",
       "    20% {\n",
       "      border-color: transparent;\n",
       "      border-left-color: var(--fill-color);\n",
       "      border-top-color: var(--fill-color);\n",
       "    }\n",
       "    30% {\n",
       "      border-color: transparent;\n",
       "      border-left-color: var(--fill-color);\n",
       "      border-top-color: var(--fill-color);\n",
       "      border-right-color: var(--fill-color);\n",
       "    }\n",
       "    40% {\n",
       "      border-color: transparent;\n",
       "      border-right-color: var(--fill-color);\n",
       "      border-top-color: var(--fill-color);\n",
       "    }\n",
       "    60% {\n",
       "      border-color: transparent;\n",
       "      border-right-color: var(--fill-color);\n",
       "    }\n",
       "    80% {\n",
       "      border-color: transparent;\n",
       "      border-right-color: var(--fill-color);\n",
       "      border-bottom-color: var(--fill-color);\n",
       "    }\n",
       "    90% {\n",
       "      border-color: transparent;\n",
       "      border-bottom-color: var(--fill-color);\n",
       "    }\n",
       "  }\n",
       "</style>\n",
       "\n",
       "  <script>\n",
       "    async function quickchart(key) {\n",
       "      const quickchartButtonEl =\n",
       "        document.querySelector('#' + key + ' button');\n",
       "      quickchartButtonEl.disabled = true;  // To prevent multiple clicks.\n",
       "      quickchartButtonEl.classList.add('colab-df-spinner');\n",
       "      try {\n",
       "        const charts = await google.colab.kernel.invokeFunction(\n",
       "            'suggestCharts', [key], {});\n",
       "      } catch (error) {\n",
       "        console.error('Error during call to suggestCharts:', error);\n",
       "      }\n",
       "      quickchartButtonEl.classList.remove('colab-df-spinner');\n",
       "      quickchartButtonEl.classList.add('colab-df-quickchart-complete');\n",
       "    }\n",
       "    (() => {\n",
       "      let quickchartButtonEl =\n",
       "        document.querySelector('#df-6a93bbd3-0612-4eac-9b74-8c9a2c05d30d button');\n",
       "      quickchartButtonEl.style.display =\n",
       "        google.colab.kernel.accessAllowed ? 'block' : 'none';\n",
       "    })();\n",
       "  </script>\n",
       "</div>\n",
       "\n",
       "    </div>\n",
       "  </div>\n"
      ],
      "text/plain": [
       "   radius       teff  distance       gmag      rmag       bmag     ecl_lon  \\\n",
       "0  0.5023  3224.9536   13.3978  10.241307  9.135763  11.498909  279.484182   \n",
       "1  0.4488  3508.4785   13.5867  10.019066  8.943984  11.186045   63.836273   \n",
       "2  0.4814  3310.7295   13.5787  10.193903  9.102655  11.395733   63.836924   \n",
       "3  0.6412  3473.9587    7.0383   7.756715  6.747296   8.790974    7.104283   \n",
       "4  0.4892  3155.9285    8.5053   9.495382  8.347611  10.836117  249.618870   \n",
       "\n",
       "     ecl_lat  \n",
       "0   8.627836  \n",
       "1  38.387682  \n",
       "2  38.388986  \n",
       "3  71.152618  \n",
       "4 -15.836896  "
      ]
     },
     "execution_count": 14,
     "metadata": {},
     "output_type": "execute_result"
    }
   ],
   "source": [
    "# Let's print the first couple rows of data\n",
    "gaia.head()"
   ]
  },
  {
   "cell_type": "code",
   "execution_count": 15,
   "id": "b2ce94b3",
   "metadata": {
    "colab": {
     "base_uri": "https://localhost:8080/",
     "height": 204
    },
    "executionInfo": {
     "elapsed": 13,
     "status": "ok",
     "timestamp": 1737560965086,
     "user": {
      "displayName": "Jared Siegel",
      "userId": "02704458627269853296"
     },
     "user_tz": 300
    },
    "id": "b2ce94b3",
    "outputId": "5a3935a0-49b4-415d-cd34-4ddecf086bf2"
   },
   "outputs": [
    {
     "data": {
      "application/vnd.google.colaboratory.intrinsic+json": {
       "summary": "{\n  \"name\": \"gaia\",\n  \"rows\": 5,\n  \"fields\": [\n    {\n      \"column\": \"radius\",\n      \"properties\": {\n        \"dtype\": \"number\",\n        \"std\": 0.30486317094723003,\n        \"min\": 0.1677,\n        \"max\": 0.8268,\n        \"num_unique_values\": 5,\n        \"samples\": [\n          0.1887,\n          0.676,\n          0.8268\n        ],\n        \"semantic_type\": \"\",\n        \"description\": \"\"\n      }\n    },\n    {\n      \"column\": \"teff\",\n      \"properties\": {\n        \"dtype\": \"number\",\n        \"std\": 882.0569707952911,\n        \"min\": 2878.0027,\n        \"max\": 4914.261,\n        \"num_unique_values\": 5,\n        \"samples\": [\n          2959.8933,\n          4353.7437,\n          4914.261\n        ],\n        \"semantic_type\": \"\",\n        \"description\": \"\"\n      }\n    },\n    {\n      \"column\": \"distance\",\n      \"properties\": {\n        \"dtype\": \"number\",\n        \"std\": 4.700369280705506,\n        \"min\": 3.4904,\n        \"max\": 12.7056,\n        \"num_unique_values\": 5,\n        \"samples\": [\n          12.2233,\n          3.4904,\n          11.0935\n        ],\n        \"semantic_type\": \"\",\n        \"description\": \"\"\n      }\n    },\n    {\n      \"column\": \"gmag\",\n      \"properties\": {\n        \"dtype\": \"number\",\n        \"std\": 4.367661293114191,\n        \"min\": 4.766713,\n        \"max\": 13.652472,\n        \"num_unique_values\": 5,\n        \"samples\": [\n          13.079426,\n          4.766713,\n          6.1298075\n        ],\n        \"semantic_type\": \"\",\n        \"description\": \"\"\n      }\n    },\n    {\n      \"column\": \"rmag\",\n      \"properties\": {\n        \"dtype\": \"number\",\n        \"std\": 4.0573895078854365,\n        \"min\": 3.977203,\n        \"max\": 12.276646,\n        \"num_unique_values\": 5,\n        \"samples\": [\n          11.746457,\n          3.977203,\n          5.5021014\n        ],\n        \"semantic_type\": \"\",\n        \"description\": \"\"\n      }\n    },\n    {\n      \"column\": \"bmag\",\n      \"properties\": {\n        \"dtype\": \"number\",\n        \"std\": 5.2069229275337765,\n        \"min\": 5.4397926,\n        \"max\": 15.956352,\n        \"num_unique_values\": 5,\n        \"samples\": [\n          15.165963,\n          5.4397926,\n          6.585531\n        ],\n        \"semantic_type\": \"\",\n        \"description\": \"\"\n      }\n    },\n    {\n      \"column\": \"ecl_lon\",\n      \"properties\": {\n        \"dtype\": \"number\",\n        \"std\": 52.25039871795431,\n        \"min\": 212.8209175105734,\n        \"max\": 336.9943235401776,\n        \"num_unique_values\": 5,\n        \"samples\": [\n          271.13328829938405,\n          336.9943235401776,\n          273.9940725729436\n        ],\n        \"semantic_type\": \"\",\n        \"description\": \"\"\n      }\n    },\n    {\n      \"column\": \"ecl_lat\",\n      \"properties\": {\n        \"dtype\": \"number\",\n        \"std\": 16.246878965884385,\n        \"min\": 21.919965150830613,\n        \"max\": 61.86164867466135,\n        \"num_unique_values\": 5,\n        \"samples\": [\n          60.94896956978628,\n          51.90314564772732,\n          61.86164867466135\n        ],\n        \"semantic_type\": \"\",\n        \"description\": \"\"\n      }\n    }\n  ]\n}",
       "type": "dataframe"
      },
      "text/html": [
       "\n",
       "  <div id=\"df-5e216e7e-054b-4877-bc17-46c2da183348\" class=\"colab-df-container\">\n",
       "    <div>\n",
       "<style scoped>\n",
       "    .dataframe tbody tr th:only-of-type {\n",
       "        vertical-align: middle;\n",
       "    }\n",
       "\n",
       "    .dataframe tbody tr th {\n",
       "        vertical-align: top;\n",
       "    }\n",
       "\n",
       "    .dataframe thead th {\n",
       "        text-align: right;\n",
       "    }\n",
       "</style>\n",
       "<table border=\"1\" class=\"dataframe\">\n",
       "  <thead>\n",
       "    <tr style=\"text-align: right;\">\n",
       "      <th></th>\n",
       "      <th>radius</th>\n",
       "      <th>teff</th>\n",
       "      <th>distance</th>\n",
       "      <th>gmag</th>\n",
       "      <th>rmag</th>\n",
       "      <th>bmag</th>\n",
       "      <th>ecl_lon</th>\n",
       "      <th>ecl_lat</th>\n",
       "    </tr>\n",
       "  </thead>\n",
       "  <tbody>\n",
       "    <tr>\n",
       "      <th>501</th>\n",
       "      <td>0.1677</td>\n",
       "      <td>2878.0027</td>\n",
       "      <td>12.7056</td>\n",
       "      <td>13.652472</td>\n",
       "      <td>12.276646</td>\n",
       "      <td>15.956352</td>\n",
       "      <td>212.820918</td>\n",
       "      <td>21.919965</td>\n",
       "    </tr>\n",
       "    <tr>\n",
       "      <th>502</th>\n",
       "      <td>0.1887</td>\n",
       "      <td>2959.8933</td>\n",
       "      <td>12.2233</td>\n",
       "      <td>13.079426</td>\n",
       "      <td>11.746457</td>\n",
       "      <td>15.165963</td>\n",
       "      <td>271.133288</td>\n",
       "      <td>60.948970</td>\n",
       "    </tr>\n",
       "    <tr>\n",
       "      <th>503</th>\n",
       "      <td>0.8268</td>\n",
       "      <td>4914.2610</td>\n",
       "      <td>11.0935</td>\n",
       "      <td>6.129808</td>\n",
       "      <td>5.502101</td>\n",
       "      <td>6.585531</td>\n",
       "      <td>273.994073</td>\n",
       "      <td>61.861649</td>\n",
       "    </tr>\n",
       "    <tr>\n",
       "      <th>504</th>\n",
       "      <td>0.6636</td>\n",
       "      <td>3889.6328</td>\n",
       "      <td>3.4947</td>\n",
       "      <td>5.450645</td>\n",
       "      <td>4.556912</td>\n",
       "      <td>6.272253</td>\n",
       "      <td>336.994179</td>\n",
       "      <td>51.894370</td>\n",
       "    </tr>\n",
       "    <tr>\n",
       "      <th>505</th>\n",
       "      <td>0.6760</td>\n",
       "      <td>4353.7437</td>\n",
       "      <td>3.4904</td>\n",
       "      <td>4.766713</td>\n",
       "      <td>3.977203</td>\n",
       "      <td>5.439793</td>\n",
       "      <td>336.994324</td>\n",
       "      <td>51.903146</td>\n",
       "    </tr>\n",
       "  </tbody>\n",
       "</table>\n",
       "</div>\n",
       "    <div class=\"colab-df-buttons\">\n",
       "\n",
       "  <div class=\"colab-df-container\">\n",
       "    <button class=\"colab-df-convert\" onclick=\"convertToInteractive('df-5e216e7e-054b-4877-bc17-46c2da183348')\"\n",
       "            title=\"Convert this dataframe to an interactive table.\"\n",
       "            style=\"display:none;\">\n",
       "\n",
       "  <svg xmlns=\"http://www.w3.org/2000/svg\" height=\"24px\" viewBox=\"0 -960 960 960\">\n",
       "    <path d=\"M120-120v-720h720v720H120Zm60-500h600v-160H180v160Zm220 220h160v-160H400v160Zm0 220h160v-160H400v160ZM180-400h160v-160H180v160Zm440 0h160v-160H620v160ZM180-180h160v-160H180v160Zm440 0h160v-160H620v160Z\"/>\n",
       "  </svg>\n",
       "    </button>\n",
       "\n",
       "  <style>\n",
       "    .colab-df-container {\n",
       "      display:flex;\n",
       "      gap: 12px;\n",
       "    }\n",
       "\n",
       "    .colab-df-convert {\n",
       "      background-color: #E8F0FE;\n",
       "      border: none;\n",
       "      border-radius: 50%;\n",
       "      cursor: pointer;\n",
       "      display: none;\n",
       "      fill: #1967D2;\n",
       "      height: 32px;\n",
       "      padding: 0 0 0 0;\n",
       "      width: 32px;\n",
       "    }\n",
       "\n",
       "    .colab-df-convert:hover {\n",
       "      background-color: #E2EBFA;\n",
       "      box-shadow: 0px 1px 2px rgba(60, 64, 67, 0.3), 0px 1px 3px 1px rgba(60, 64, 67, 0.15);\n",
       "      fill: #174EA6;\n",
       "    }\n",
       "\n",
       "    .colab-df-buttons div {\n",
       "      margin-bottom: 4px;\n",
       "    }\n",
       "\n",
       "    [theme=dark] .colab-df-convert {\n",
       "      background-color: #3B4455;\n",
       "      fill: #D2E3FC;\n",
       "    }\n",
       "\n",
       "    [theme=dark] .colab-df-convert:hover {\n",
       "      background-color: #434B5C;\n",
       "      box-shadow: 0px 1px 3px 1px rgba(0, 0, 0, 0.15);\n",
       "      filter: drop-shadow(0px 1px 2px rgba(0, 0, 0, 0.3));\n",
       "      fill: #FFFFFF;\n",
       "    }\n",
       "  </style>\n",
       "\n",
       "    <script>\n",
       "      const buttonEl =\n",
       "        document.querySelector('#df-5e216e7e-054b-4877-bc17-46c2da183348 button.colab-df-convert');\n",
       "      buttonEl.style.display =\n",
       "        google.colab.kernel.accessAllowed ? 'block' : 'none';\n",
       "\n",
       "      async function convertToInteractive(key) {\n",
       "        const element = document.querySelector('#df-5e216e7e-054b-4877-bc17-46c2da183348');\n",
       "        const dataTable =\n",
       "          await google.colab.kernel.invokeFunction('convertToInteractive',\n",
       "                                                    [key], {});\n",
       "        if (!dataTable) return;\n",
       "\n",
       "        const docLinkHtml = 'Like what you see? Visit the ' +\n",
       "          '<a target=\"_blank\" href=https://colab.research.google.com/notebooks/data_table.ipynb>data table notebook</a>'\n",
       "          + ' to learn more about interactive tables.';\n",
       "        element.innerHTML = '';\n",
       "        dataTable['output_type'] = 'display_data';\n",
       "        await google.colab.output.renderOutput(dataTable, element);\n",
       "        const docLink = document.createElement('div');\n",
       "        docLink.innerHTML = docLinkHtml;\n",
       "        element.appendChild(docLink);\n",
       "      }\n",
       "    </script>\n",
       "  </div>\n",
       "\n",
       "\n",
       "<div id=\"df-98b9ecec-9336-40f0-9942-8a3402aa63ec\">\n",
       "  <button class=\"colab-df-quickchart\" onclick=\"quickchart('df-98b9ecec-9336-40f0-9942-8a3402aa63ec')\"\n",
       "            title=\"Suggest charts\"\n",
       "            style=\"display:none;\">\n",
       "\n",
       "<svg xmlns=\"http://www.w3.org/2000/svg\" height=\"24px\"viewBox=\"0 0 24 24\"\n",
       "     width=\"24px\">\n",
       "    <g>\n",
       "        <path d=\"M19 3H5c-1.1 0-2 .9-2 2v14c0 1.1.9 2 2 2h14c1.1 0 2-.9 2-2V5c0-1.1-.9-2-2-2zM9 17H7v-7h2v7zm4 0h-2V7h2v10zm4 0h-2v-4h2v4z\"/>\n",
       "    </g>\n",
       "</svg>\n",
       "  </button>\n",
       "\n",
       "<style>\n",
       "  .colab-df-quickchart {\n",
       "      --bg-color: #E8F0FE;\n",
       "      --fill-color: #1967D2;\n",
       "      --hover-bg-color: #E2EBFA;\n",
       "      --hover-fill-color: #174EA6;\n",
       "      --disabled-fill-color: #AAA;\n",
       "      --disabled-bg-color: #DDD;\n",
       "  }\n",
       "\n",
       "  [theme=dark] .colab-df-quickchart {\n",
       "      --bg-color: #3B4455;\n",
       "      --fill-color: #D2E3FC;\n",
       "      --hover-bg-color: #434B5C;\n",
       "      --hover-fill-color: #FFFFFF;\n",
       "      --disabled-bg-color: #3B4455;\n",
       "      --disabled-fill-color: #666;\n",
       "  }\n",
       "\n",
       "  .colab-df-quickchart {\n",
       "    background-color: var(--bg-color);\n",
       "    border: none;\n",
       "    border-radius: 50%;\n",
       "    cursor: pointer;\n",
       "    display: none;\n",
       "    fill: var(--fill-color);\n",
       "    height: 32px;\n",
       "    padding: 0;\n",
       "    width: 32px;\n",
       "  }\n",
       "\n",
       "  .colab-df-quickchart:hover {\n",
       "    background-color: var(--hover-bg-color);\n",
       "    box-shadow: 0 1px 2px rgba(60, 64, 67, 0.3), 0 1px 3px 1px rgba(60, 64, 67, 0.15);\n",
       "    fill: var(--button-hover-fill-color);\n",
       "  }\n",
       "\n",
       "  .colab-df-quickchart-complete:disabled,\n",
       "  .colab-df-quickchart-complete:disabled:hover {\n",
       "    background-color: var(--disabled-bg-color);\n",
       "    fill: var(--disabled-fill-color);\n",
       "    box-shadow: none;\n",
       "  }\n",
       "\n",
       "  .colab-df-spinner {\n",
       "    border: 2px solid var(--fill-color);\n",
       "    border-color: transparent;\n",
       "    border-bottom-color: var(--fill-color);\n",
       "    animation:\n",
       "      spin 1s steps(1) infinite;\n",
       "  }\n",
       "\n",
       "  @keyframes spin {\n",
       "    0% {\n",
       "      border-color: transparent;\n",
       "      border-bottom-color: var(--fill-color);\n",
       "      border-left-color: var(--fill-color);\n",
       "    }\n",
       "    20% {\n",
       "      border-color: transparent;\n",
       "      border-left-color: var(--fill-color);\n",
       "      border-top-color: var(--fill-color);\n",
       "    }\n",
       "    30% {\n",
       "      border-color: transparent;\n",
       "      border-left-color: var(--fill-color);\n",
       "      border-top-color: var(--fill-color);\n",
       "      border-right-color: var(--fill-color);\n",
       "    }\n",
       "    40% {\n",
       "      border-color: transparent;\n",
       "      border-right-color: var(--fill-color);\n",
       "      border-top-color: var(--fill-color);\n",
       "    }\n",
       "    60% {\n",
       "      border-color: transparent;\n",
       "      border-right-color: var(--fill-color);\n",
       "    }\n",
       "    80% {\n",
       "      border-color: transparent;\n",
       "      border-right-color: var(--fill-color);\n",
       "      border-bottom-color: var(--fill-color);\n",
       "    }\n",
       "    90% {\n",
       "      border-color: transparent;\n",
       "      border-bottom-color: var(--fill-color);\n",
       "    }\n",
       "  }\n",
       "</style>\n",
       "\n",
       "  <script>\n",
       "    async function quickchart(key) {\n",
       "      const quickchartButtonEl =\n",
       "        document.querySelector('#' + key + ' button');\n",
       "      quickchartButtonEl.disabled = true;  // To prevent multiple clicks.\n",
       "      quickchartButtonEl.classList.add('colab-df-spinner');\n",
       "      try {\n",
       "        const charts = await google.colab.kernel.invokeFunction(\n",
       "            'suggestCharts', [key], {});\n",
       "      } catch (error) {\n",
       "        console.error('Error during call to suggestCharts:', error);\n",
       "      }\n",
       "      quickchartButtonEl.classList.remove('colab-df-spinner');\n",
       "      quickchartButtonEl.classList.add('colab-df-quickchart-complete');\n",
       "    }\n",
       "    (() => {\n",
       "      let quickchartButtonEl =\n",
       "        document.querySelector('#df-98b9ecec-9336-40f0-9942-8a3402aa63ec button');\n",
       "      quickchartButtonEl.style.display =\n",
       "        google.colab.kernel.accessAllowed ? 'block' : 'none';\n",
       "    })();\n",
       "  </script>\n",
       "</div>\n",
       "\n",
       "    </div>\n",
       "  </div>\n"
      ],
      "text/plain": [
       "     radius       teff  distance       gmag       rmag       bmag     ecl_lon  \\\n",
       "501  0.1677  2878.0027   12.7056  13.652472  12.276646  15.956352  212.820918   \n",
       "502  0.1887  2959.8933   12.2233  13.079426  11.746457  15.165963  271.133288   \n",
       "503  0.8268  4914.2610   11.0935   6.129808   5.502101   6.585531  273.994073   \n",
       "504  0.6636  3889.6328    3.4947   5.450645   4.556912   6.272253  336.994179   \n",
       "505  0.6760  4353.7437    3.4904   4.766713   3.977203   5.439793  336.994324   \n",
       "\n",
       "       ecl_lat  \n",
       "501  21.919965  \n",
       "502  60.948970  \n",
       "503  61.861649  \n",
       "504  51.894370  \n",
       "505  51.903146  "
      ]
     },
     "execution_count": 15,
     "metadata": {},
     "output_type": "execute_result"
    }
   ],
   "source": [
    "# We can also print the last couple rows of data\n",
    "gaia.tail()"
   ]
  },
  {
   "cell_type": "code",
   "execution_count": 16,
   "id": "00c3edfd",
   "metadata": {
    "colab": {
     "base_uri": "https://localhost:8080/"
    },
    "executionInfo": {
     "elapsed": 13,
     "status": "ok",
     "timestamp": 1737560965087,
     "user": {
      "displayName": "Jared Siegel",
      "userId": "02704458627269853296"
     },
     "user_tz": 300
    },
    "id": "00c3edfd",
    "outputId": "6e2d53d2-b560-4485-9f92-34ad6e35c265"
   },
   "outputs": [
    {
     "data": {
      "text/plain": [
       "Index(['radius', 'teff', 'distance', 'gmag', 'rmag', 'bmag', 'ecl_lon',\n",
       "       'ecl_lat'],\n",
       "      dtype='object')"
      ]
     },
     "execution_count": 16,
     "metadata": {},
     "output_type": "execute_result"
    }
   ],
   "source": [
    "# What columns are in the table?\n",
    "gaia.columns"
   ]
  },
  {
   "cell_type": "code",
   "execution_count": 17,
   "id": "57690cfa",
   "metadata": {
    "colab": {
     "base_uri": "https://localhost:8080/",
     "height": 453
    },
    "executionInfo": {
     "elapsed": 11,
     "status": "ok",
     "timestamp": 1737560965087,
     "user": {
      "displayName": "Jared Siegel",
      "userId": "02704458627269853296"
     },
     "user_tz": 300
    },
    "id": "57690cfa",
    "outputId": "471962b6-54fc-4d5f-cbbc-5318cc368db7"
   },
   "outputs": [
    {
     "data": {
      "text/html": [
       "<div>\n",
       "<style scoped>\n",
       "    .dataframe tbody tr th:only-of-type {\n",
       "        vertical-align: middle;\n",
       "    }\n",
       "\n",
       "    .dataframe tbody tr th {\n",
       "        vertical-align: top;\n",
       "    }\n",
       "\n",
       "    .dataframe thead th {\n",
       "        text-align: right;\n",
       "    }\n",
       "</style>\n",
       "<table border=\"1\" class=\"dataframe\">\n",
       "  <thead>\n",
       "    <tr style=\"text-align: right;\">\n",
       "      <th></th>\n",
       "      <th>teff</th>\n",
       "    </tr>\n",
       "  </thead>\n",
       "  <tbody>\n",
       "    <tr>\n",
       "      <th>0</th>\n",
       "      <td>3224.9536</td>\n",
       "    </tr>\n",
       "    <tr>\n",
       "      <th>1</th>\n",
       "      <td>3508.4785</td>\n",
       "    </tr>\n",
       "    <tr>\n",
       "      <th>2</th>\n",
       "      <td>3310.7295</td>\n",
       "    </tr>\n",
       "    <tr>\n",
       "      <th>3</th>\n",
       "      <td>3473.9587</td>\n",
       "    </tr>\n",
       "    <tr>\n",
       "      <th>4</th>\n",
       "      <td>3155.9285</td>\n",
       "    </tr>\n",
       "    <tr>\n",
       "      <th>...</th>\n",
       "      <td>...</td>\n",
       "    </tr>\n",
       "    <tr>\n",
       "      <th>501</th>\n",
       "      <td>2878.0027</td>\n",
       "    </tr>\n",
       "    <tr>\n",
       "      <th>502</th>\n",
       "      <td>2959.8933</td>\n",
       "    </tr>\n",
       "    <tr>\n",
       "      <th>503</th>\n",
       "      <td>4914.2610</td>\n",
       "    </tr>\n",
       "    <tr>\n",
       "      <th>504</th>\n",
       "      <td>3889.6328</td>\n",
       "    </tr>\n",
       "    <tr>\n",
       "      <th>505</th>\n",
       "      <td>4353.7437</td>\n",
       "    </tr>\n",
       "  </tbody>\n",
       "</table>\n",
       "<p>506 rows × 1 columns</p>\n",
       "</div><br><label><b>dtype:</b> float64</label>"
      ],
      "text/plain": [
       "0      3224.9536\n",
       "1      3508.4785\n",
       "2      3310.7295\n",
       "3      3473.9587\n",
       "4      3155.9285\n",
       "         ...    \n",
       "501    2878.0027\n",
       "502    2959.8933\n",
       "503    4914.2610\n",
       "504    3889.6328\n",
       "505    4353.7437\n",
       "Name: teff, Length: 506, dtype: float64"
      ]
     },
     "execution_count": 17,
     "metadata": {},
     "output_type": "execute_result"
    }
   ],
   "source": [
    "# Let's access a single column\n",
    "gaia['teff']"
   ]
  },
  {
   "cell_type": "markdown",
   "id": "56bee56f",
   "metadata": {
    "id": "56bee56f"
   },
   "source": [
    "# 2. Getting started with data"
   ]
  },
  {
   "cell_type": "markdown",
   "id": "81545159",
   "metadata": {
    "id": "81545159"
   },
   "source": [
    "**Exercise:** Using $\\texttt{numpy}$ calculate the mean, median, and standard deviation of the `distance` column."
   ]
  },
  {
   "cell_type": "code",
   "execution_count": 18,
   "id": "0b4f0cb9",
   "metadata": {
    "colab": {
     "base_uri": "https://localhost:8080/"
    },
    "executionInfo": {
     "elapsed": 10,
     "status": "ok",
     "timestamp": 1737560965087,
     "user": {
      "displayName": "Jared Siegel",
      "userId": "02704458627269853296"
     },
     "user_tz": 300
    },
    "id": "0b4f0cb9",
    "outputId": "f47d2710-076d-48e6-f266-879c27ae7118"
   },
   "outputs": [
    {
     "name": "stdout",
     "output_type": "stream",
     "text": [
      "Mean=11.3\n",
      "Median=11.9\n",
      "Stdev=3.01\n"
     ]
    }
   ],
   "source": [
    "data = gaia['distance']\n",
    "print(f'Mean={np.mean(data):.3}')\n",
    "print(f'Median={np.median(data):.3}')\n",
    "print(f'Stdev={np.std(data):.3}')"
   ]
  },
  {
   "cell_type": "markdown",
   "id": "33c5ca97",
   "metadata": {
    "id": "33c5ca97"
   },
   "source": [
    "**Exercise:** It's hard to how what these numbers mean without visualizing the data. Let's make a histogram of the distances. Be sure to include labels on the x and y axis. Include the mean and median as vertical lines."
   ]
  },
  {
   "cell_type": "code",
   "execution_count": 19,
   "id": "b7081c26",
   "metadata": {
    "colab": {
     "base_uri": "https://localhost:8080/",
     "height": 484
    },
    "executionInfo": {
     "elapsed": 330,
     "status": "ok",
     "timestamp": 1737560965409,
     "user": {
      "displayName": "Jared Siegel",
      "userId": "02704458627269853296"
     },
     "user_tz": 300
    },
    "id": "b7081c26",
    "outputId": "7644d088-8ced-463d-82f2-7c5a44607764"
   },
   "outputs": [
    {
     "data": {
      "text/plain": [
       "Text(0.5, 0, 'Distance [pc]')"
      ]
     },
     "execution_count": 19,
     "metadata": {},
     "output_type": "execute_result"
    },
    {
     "data": {
      "image/png": "[encoded data removed]",
      "text/plain": [
       "<Figure size 640x480 with 1 Axes>"
      ]
     },
     "metadata": {},
     "output_type": "display_data"
    }
   ],
   "source": [
    "plt.hist(gaia['distance'])\n",
    "plt.axvline(np.median(data),color='k')\n",
    "plt.axvline(np.mean(data),color='k',linestyle='--')\n",
    "plt.ylabel('N')\n",
    "plt.xlabel('Distance [pc]')"
   ]
  },
  {
   "cell_type": "markdown",
   "id": "4444a727",
   "metadata": {
    "id": "4444a727"
   },
   "source": [
    "**Exercise:** What can we learn about the distances of near by stars based on the histogram? For instance, is the histogram skewed towards very high or very low values? or is the histogram symmetric? What does this tell us about stars near the Sun?\n",
    "\n",
    "**Example answer:** the histogram of distances in the table is strongly skewed towards high values. In fact the histogram peaks at the largest distance bin. More advanced students could spend time here and compare the histogram to what we expect from uniformly distributed stars."
   ]
  },
  {
   "cell_type": "markdown",
   "id": "2b2562be",
   "metadata": {
    "id": "2b2562be"
   },
   "source": [
    "**Exercise:** In astronomy, we often ask how different properties of stars depend on each other. For example, does the size of a star depend on it's temperature? First let's make scatter plots of temperature vs. radius, distance vs. radius, and distance vs. temperature.\n",
    "\n",
    "Bonus: try using for loops to reduce duplicated code"
   ]
  },
  {
   "cell_type": "code",
   "execution_count": 20,
   "id": "9f67ea9a",
   "metadata": {
    "colab": {
     "base_uri": "https://localhost:8080/",
     "height": 1000
    },
    "executionInfo": {
     "elapsed": 964,
     "status": "ok",
     "timestamp": 1737560966369,
     "user": {
      "displayName": "Jared Siegel",
      "userId": "02704458627269853296"
     },
     "user_tz": 300
    },
    "id": "9f67ea9a",
    "outputId": "c8ac9634-fb1d-45df-e090-3b805ca4cc0a"
   },
   "outputs": [
    {
     "data": {
      "image/png": "[encoded data removed]",
      "text/plain": [
       "<Figure size 640x480 with 1 Axes>"
      ]
     },
     "metadata": {},
     "output_type": "display_data"
    },
    {
     "data": {
      "image/png": "[encoded data removed]",
      "text/plain": [
       "<Figure size 640x480 with 1 Axes>"
      ]
     },
     "metadata": {},
     "output_type": "display_data"
    },
    {
     "data": {
      "image/png": "[encoded data removed]",
      "text/plain": [
       "<Figure size 640x480 with 1 Axes>"
      ]
     },
     "metadata": {},
     "output_type": "display_data"
    }
   ],
   "source": [
    "columns = ['distance', 'radius', 'teff']\n",
    "for i in range(len(columns)):\n",
    "    for j in range(len(columns)):\n",
    "        if i > j:\n",
    "            plt.scatter(gaia[columns[i]],gaia[columns[j]])\n",
    "            plt.xlabel(columns[i])\n",
    "            plt.ylabel(columns[j])\n",
    "            plt.show()"
   ]
  },
  {
   "cell_type": "markdown",
   "id": "3a45bdfe",
   "metadata": {
    "id": "3a45bdfe"
   },
   "source": [
    "**Exercise:** Write a single sentence summary of each plot. Based on your scatter plots, which properties are most strongly correlated?"
   ]
  },
  {
   "cell_type": "markdown",
   "id": "6ee469f9",
   "metadata": {
    "id": "6ee469f9"
   },
   "source": [
    "# 3. Practicing with magnitudes"
   ]
  },
  {
   "cell_type": "markdown",
   "id": "0e11f013",
   "metadata": {
    "id": "0e11f013"
   },
   "source": [
    "As we discussed in lecture, magnitudes appear everywhere in astronomy. Let's practice using magnitudes with our Gaia stars. Remember, the definition of magnitude is:\n",
    "$$ m_1 - m_2 = - 2.5 \\log_{10} (F_1 / F_2) $$\n",
    "where $m_1, m_2$ are the magnitudes of two stars (creatively named 1 and 2) and $F_1, F_2$ are the fluxes of those two stars."
   ]
  },
  {
   "cell_type": "markdown",
   "id": "4d110181",
   "metadata": {
    "id": "4d110181"
   },
   "source": [
    "**Exercise:** To get some practice, let's convert the magnitudes listed in the table to fluxes. Let's calculate our fluxes relative to the Sun:\n",
    "$$ m_1 + 26.83 = - 2.5 \\log_{10} (F_1 / F_\\mathrm{Sun}) $$\n",
    "we've set $m_2 = −26.83$ and $F_2 = F_\\mathrm{Sun}$, where $F_\\mathrm{Sun}$ is the flux (aka. brightness) of the Sun as measured from Earth.\n",
    "\n",
    "Make a histogram of $\\log_{10}(F_1 / F_\\mathrm{Sun})$ for the $g$, $r$, and $b$ Gaia filters (the Gaia magnitudes are stored under the $\\texttt{gmag, rmag, bmag}$ columns).\n",
    "\n",
    "Bonus: write a function for the flux to magnitude conversion"
   ]
  },
  {
   "cell_type": "code",
   "execution_count": 21,
   "id": "84e905c8",
   "metadata": {
    "colab": {
     "base_uri": "https://localhost:8080/",
     "height": 1000
    },
    "executionInfo": {
     "elapsed": 1618,
     "status": "ok",
     "timestamp": 1737560967986,
     "user": {
      "displayName": "Jared Siegel",
      "userId": "02704458627269853296"
     },
     "user_tz": 300
    },
    "id": "84e905c8",
    "outputId": "14c25a08-dd5b-4765-d762-b07677515ebb"
   },
   "outputs": [
    {
     "data": {
      "image/png": "[encoded data removed]",
      "text/plain": [
       "<Figure size 640x480 with 1 Axes>"
      ]
     },
     "metadata": {},
     "output_type": "display_data"
    },
    {
     "data": {
      "image/png": "[encoded data removed]",
      "text/plain": [
       "<Figure size 640x480 with 1 Axes>"
      ]
     },
     "metadata": {},
     "output_type": "display_data"
    },
    {
     "data": {
      "image/png": "[encoded data removed]",
      "text/plain": [
       "<Figure size 640x480 with 1 Axes>"
      ]
     },
     "metadata": {},
     "output_type": "display_data"
    }
   ],
   "source": [
    "def magnitude_to_flux(magnitude):\n",
    "    return 10**( (magnitude + 26.83) / -2.5 )\n",
    "\n",
    "for band in 'grb':\n",
    "    magnitude = gaia[band+'mag']\n",
    "    flux_relative_to_sun = magnitude_to_flux(magnitude)\n",
    "\n",
    "    plt.hist(np.log10(flux_relative_to_sun))\n",
    "    plt.xlabel('$\\log_{10}'+f'(F_{band}'+'/F_\\mathrm{sun})$')\n",
    "    plt.show()"
   ]
  },
  {
   "cell_type": "markdown",
   "id": "472b53ee",
   "metadata": {
    "id": "472b53ee"
   },
   "source": [
    "**Exercise:** Based on your histograms how much brighter does the Sun appear to us than the brightest nearby star (in gaia g-band)?\n",
    "\n",
    "**Example answer:** We made a histogram of $\\log_{10}(F_1/F_\\mathrm{sun})$. So the brightest star will be the maximum value in our histogram. That means the Sun appears 1000000000000 brighter than the next brightest star in the sky!"
   ]
  },
  {
   "cell_type": "markdown",
   "id": "0ca6f015",
   "metadata": {
    "id": "0ca6f015"
   },
   "source": [
    "So far, we have considered how bright stars appear in the sky. However, we know this depends on the stars' distances from the Earth. Remember the apparent brightness of a star (aka flux $F$) is related to its luminosity $L$ (the amount of energy output by the star each second) and distance $d$ by:\n",
    "$$  F = \\frac{L}{4 \\pi d^2} $$\n",
    "\n",
    "**Exercise:** Use the above equation to write an equation for $L$. Then write an equation for $L / L_\\mathrm{sun}$. Using your equation, make a histogram of $\\log_{10} (L / L_\\mathrm{Sun})$ (based on the $g$-band magnitude)."
   ]
  },
  {
   "cell_type": "code",
   "execution_count": 22,
   "id": "11feb778",
   "metadata": {
    "colab": {
     "base_uri": "https://localhost:8080/",
     "height": 489
    },
    "executionInfo": {
     "elapsed": 905,
     "status": "ok",
     "timestamp": 1737560968888,
     "user": {
      "displayName": "Jared Siegel",
      "userId": "02704458627269853296"
     },
     "user_tz": 300
    },
    "id": "11feb778",
    "outputId": "87587fd0-9fd4-44cc-cf23-40d6e0a9cc27"
   },
   "outputs": [
    {
     "data": {
      "text/plain": [
       "Text(0.5, 0, '$\\\\log_{10}(L/L_\\\\mathrm{sun})$')"
      ]
     },
     "execution_count": 22,
     "metadata": {},
     "output_type": "execute_result"
    },
    {
     "data": {
      "image/png": "[encoded data removed]",
      "text/plain": [
       "<Figure size 640x480 with 1 Axes>"
      ]
     },
     "metadata": {},
     "output_type": "display_data"
    }
   ],
   "source": [
    "distances = gaia['distance'] # pc\n",
    "flux_relative_to_sun = magnitude_to_flux(gaia['gmag'])\n",
    "L_relative_to_sun    = flux_relative_to_sun  *(gaia['distance'] / 4.848e-6)**2\n",
    "\n",
    "plt.hist(np.log10(L_relative_to_sun))\n",
    "plt.xlabel('$\\log_{10}(L/L_\\mathrm{sun})$')"
   ]
  },
  {
   "cell_type": "markdown",
   "id": "946efa38",
   "metadata": {
    "id": "946efa38"
   },
   "source": [
    "**Exercise:** What can we learn from this histogram? Is the Sun typical compared to nearby stars?"
   ]
  }
 ],
 "metadata": {
  "colab": {
   "provenance": []
  },
  "kernelspec": {
   "display_name": "Python 3 (ipykernel)",
   "language": "python",
   "name": "python3"
  },
  "language_info": {
   "codemirror_mode": {
    "name": "ipython",
    "version": 3
   },
   "file_extension": ".py",
   "mimetype": "text/x-python",
   "name": "python",
   "nbconvert_exporter": "python",
   "pygments_lexer": "ipython3",
   "version": "3.11.9"
  }
 },
 "nbformat": 4,
 "nbformat_minor": 5
}
