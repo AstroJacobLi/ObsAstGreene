{
 "cells": [
  {
   "cell_type": "markdown",
   "metadata": {
    "editable": true,
    "slideshow": {
     "slide_type": ""
    },
    "tags": []
   },
   "source": [
    "# Homework 2 Notebook\n"
   ]
  },
  {
   "cell_type": "code",
   "execution_count": 1,
   "metadata": {
    "editable": true,
    "slideshow": {
     "slide_type": ""
    },
    "tags": []
   },
   "outputs": [
    {
     "name": "stderr",
     "output_type": "stream",
     "text": [
      "\n",
      "A module that was compiled using NumPy 1.x cannot be run in\n",
      "NumPy 2.0.2 as it may crash. To support both 1.x and 2.x\n",
      "versions of NumPy, modules must be compiled with NumPy 2.0.\n",
      "Some module may need to rebuild instead e.g. with 'pybind11>=2.12'.\n",
      "\n",
      "If you are a user of the module, the easiest solution will be to\n",
      "downgrade to 'numpy<2' or try to upgrade the affected module.\n",
      "We expect that some modules will need time to support NumPy 2.\n",
      "\n",
      "Traceback (most recent call last):  File \"/Users/jgreene/Applications/conda3/lib/python3.9/runpy.py\", line 197, in _run_module_as_main\n",
      "    return _run_code(code, main_globals, None,\n",
      "  File \"/Users/jgreene/Applications/conda3/lib/python3.9/runpy.py\", line 87, in _run_code\n",
      "    exec(code, run_globals)\n",
      "  File \"/Users/jgreene/Applications/conda3/lib/python3.9/site-packages/ipykernel_launcher.py\", line 16, in <module>\n",
      "    app.launch_new_instance()\n",
      "  File \"/Users/jgreene/Applications/conda3/lib/python3.9/site-packages/traitlets/config/application.py\", line 846, in launch_instance\n",
      "    app.start()\n",
      "  File \"/Users/jgreene/Applications/conda3/lib/python3.9/site-packages/ipykernel/kernelapp.py\", line 677, in start\n",
      "    self.io_loop.start()\n",
      "  File \"/Users/jgreene/Applications/conda3/lib/python3.9/site-packages/tornado/platform/asyncio.py\", line 199, in start\n",
      "    self.asyncio_loop.run_forever()\n",
      "  File \"/Users/jgreene/Applications/conda3/lib/python3.9/asyncio/base_events.py\", line 596, in run_forever\n",
      "    self._run_once()\n",
      "  File \"/Users/jgreene/Applications/conda3/lib/python3.9/asyncio/base_events.py\", line 1890, in _run_once\n",
      "    handle._run()\n",
      "  File \"/Users/jgreene/Applications/conda3/lib/python3.9/asyncio/events.py\", line 80, in _run\n",
      "    self._context.run(self._callback, *self._args)\n",
      "  File \"/Users/jgreene/Applications/conda3/lib/python3.9/site-packages/ipykernel/kernelbase.py\", line 457, in dispatch_queue\n",
      "    await self.process_one()\n",
      "  File \"/Users/jgreene/Applications/conda3/lib/python3.9/site-packages/ipykernel/kernelbase.py\", line 446, in process_one\n",
      "    await dispatch(*args)\n",
      "  File \"/Users/jgreene/Applications/conda3/lib/python3.9/site-packages/ipykernel/kernelbase.py\", line 353, in dispatch_shell\n",
      "    await result\n",
      "  File \"/Users/jgreene/Applications/conda3/lib/python3.9/site-packages/ipykernel/kernelbase.py\", line 648, in execute_request\n",
      "    reply_content = await reply_content\n",
      "  File \"/Users/jgreene/Applications/conda3/lib/python3.9/site-packages/ipykernel/ipkernel.py\", line 353, in do_execute\n",
      "    res = shell.run_cell(code, store_history=store_history, silent=silent)\n",
      "  File \"/Users/jgreene/Applications/conda3/lib/python3.9/site-packages/ipykernel/zmqshell.py\", line 533, in run_cell\n",
      "    return super(ZMQInteractiveShell, self).run_cell(*args, **kwargs)\n",
      "  File \"/Users/jgreene/Applications/conda3/lib/python3.9/site-packages/IPython/core/interactiveshell.py\", line 2901, in run_cell\n",
      "    result = self._run_cell(\n",
      "  File \"/Users/jgreene/Applications/conda3/lib/python3.9/site-packages/IPython/core/interactiveshell.py\", line 2947, in _run_cell\n",
      "    return runner(coro)\n",
      "  File \"/Users/jgreene/Applications/conda3/lib/python3.9/site-packages/IPython/core/async_helpers.py\", line 68, in _pseudo_sync_runner\n",
      "    coro.send(None)\n",
      "  File \"/Users/jgreene/Applications/conda3/lib/python3.9/site-packages/IPython/core/interactiveshell.py\", line 3172, in run_cell_async\n",
      "    has_raised = await self.run_ast_nodes(code_ast.body, cell_name,\n",
      "  File \"/Users/jgreene/Applications/conda3/lib/python3.9/site-packages/IPython/core/interactiveshell.py\", line 3364, in run_ast_nodes\n",
      "    if (await self.run_code(code, result,  async_=asy)):\n",
      "  File \"/Users/jgreene/Applications/conda3/lib/python3.9/site-packages/IPython/core/interactiveshell.py\", line 3444, in run_code\n",
      "    exec(code_obj, self.user_global_ns, self.user_ns)\n",
      "  File \"/var/folders/tq/wbp3v8lj3c7frz6b0rh0br9m0000gn/T/ipykernel_95290/324637414.py\", line 7, in <module>\n",
      "    from astropy.table import Table\n",
      "  File \"/Users/jgreene/Applications/conda3/lib/python3.9/site-packages/astropy/__init__.py\", line 21, in <module>\n",
      "    from . import config as _config\n",
      "  File \"/Users/jgreene/Applications/conda3/lib/python3.9/site-packages/astropy/config/__init__.py\", line 8, in <module>\n",
      "    from .configuration import *\n",
      "  File \"/Users/jgreene/Applications/conda3/lib/python3.9/site-packages/astropy/config/configuration.py\", line 24, in <module>\n",
      "    from astropy.utils import find_current_module, silence\n",
      "  File \"/Users/jgreene/Applications/conda3/lib/python3.9/site-packages/astropy/utils/__init__.py\", line 17, in <module>\n",
      "    from .codegen import *\n",
      "  File \"/Users/jgreene/Applications/conda3/lib/python3.9/site-packages/astropy/utils/codegen.py\", line 12, in <module>\n",
      "    from .introspection import find_current_module\n",
      "  File \"/Users/jgreene/Applications/conda3/lib/python3.9/site-packages/astropy/utils/introspection.py\", line 14, in <module>\n",
      "    from astropy.utils.decorators import deprecated_renamed_argument\n",
      "  File \"/Users/jgreene/Applications/conda3/lib/python3.9/site-packages/astropy/utils/decorators.py\", line 13, in <module>\n",
      "    from .exceptions import (\n",
      "  File \"/Users/jgreene/Applications/conda3/lib/python3.9/site-packages/astropy/utils/exceptions.py\", line 11, in <module>\n",
      "    from erfa import ErfaError, ErfaWarning  # noqa: F401\n",
      "  File \"/Users/jgreene/Applications/conda3/lib/python3.9/site-packages/erfa/__init__.py\", line 5, in <module>\n",
      "    from .version import version as __version__  # noqa\n",
      "  File \"/Users/jgreene/Applications/conda3/lib/python3.9/site-packages/erfa/version.py\", line 25, in <module>\n",
      "    from . import ufunc\n"
     ]
    },
    {
     "ename": "AttributeError",
     "evalue": "_ARRAY_API not found",
     "output_type": "error",
     "traceback": [
      "\u001b[0;31m---------------------------------------------------------------------------\u001b[0m",
      "\u001b[0;31mAttributeError\u001b[0m                            Traceback (most recent call last)",
      "\u001b[0;31mAttributeError\u001b[0m: _ARRAY_API not found"
     ]
    },
    {
     "ename": "ImportError",
     "evalue": "numpy.core.multiarray failed to import",
     "output_type": "error",
     "traceback": [
      "\u001b[0;31m---------------------------------------------------------------------------\u001b[0m",
      "\u001b[0;31mImportError\u001b[0m                               Traceback (most recent call last)",
      "\u001b[0;32m/var/folders/tq/wbp3v8lj3c7frz6b0rh0br9m0000gn/T/ipykernel_95290/324637414.py\u001b[0m in \u001b[0;36m<module>\u001b[0;34m\u001b[0m\n\u001b[1;32m      5\u001b[0m \u001b[0;32mimport\u001b[0m \u001b[0mmatplotlib\u001b[0m\u001b[0;34m\u001b[0m\u001b[0;34m\u001b[0m\u001b[0m\n\u001b[1;32m      6\u001b[0m \u001b[0;32mimport\u001b[0m \u001b[0mmatplotlib\u001b[0m\u001b[0;34m.\u001b[0m\u001b[0mpyplot\u001b[0m \u001b[0;32mas\u001b[0m \u001b[0mplt\u001b[0m\u001b[0;34m\u001b[0m\u001b[0;34m\u001b[0m\u001b[0m\n\u001b[0;32m----> 7\u001b[0;31m \u001b[0;32mfrom\u001b[0m \u001b[0mastropy\u001b[0m\u001b[0;34m.\u001b[0m\u001b[0mtable\u001b[0m \u001b[0;32mimport\u001b[0m \u001b[0mTable\u001b[0m\u001b[0;34m\u001b[0m\u001b[0;34m\u001b[0m\u001b[0m\n\u001b[0m\u001b[1;32m      8\u001b[0m \u001b[0;34m\u001b[0m\u001b[0m\n\u001b[1;32m      9\u001b[0m \u001b[0;31m# We can beautify our plots by changing the matpltlib setting a little\u001b[0m\u001b[0;34m\u001b[0m\u001b[0;34m\u001b[0m\u001b[0m\n",
      "\u001b[0;32m~/Applications/conda3/lib/python3.9/site-packages/astropy/__init__.py\u001b[0m in \u001b[0;36m<module>\u001b[0;34m\u001b[0m\n\u001b[1;32m     19\u001b[0m \u001b[0;34m\u001b[0m\u001b[0m\n\u001b[1;32m     20\u001b[0m \u001b[0;34m\u001b[0m\u001b[0m\n\u001b[0;32m---> 21\u001b[0;31m \u001b[0;32mfrom\u001b[0m \u001b[0;34m.\u001b[0m \u001b[0;32mimport\u001b[0m \u001b[0mconfig\u001b[0m \u001b[0;32mas\u001b[0m \u001b[0m_config\u001b[0m\u001b[0;34m\u001b[0m\u001b[0;34m\u001b[0m\u001b[0m\n\u001b[0m\u001b[1;32m     22\u001b[0m \u001b[0;34m\u001b[0m\u001b[0m\n\u001b[1;32m     23\u001b[0m \u001b[0;34m\u001b[0m\u001b[0m\n",
      "\u001b[0;32m~/Applications/conda3/lib/python3.9/site-packages/astropy/config/__init__.py\u001b[0m in \u001b[0;36m<module>\u001b[0;34m\u001b[0m\n\u001b[1;32m      6\u001b[0m \"\"\"\n\u001b[1;32m      7\u001b[0m \u001b[0;34m\u001b[0m\u001b[0m\n\u001b[0;32m----> 8\u001b[0;31m \u001b[0;32mfrom\u001b[0m \u001b[0;34m.\u001b[0m\u001b[0mconfiguration\u001b[0m \u001b[0;32mimport\u001b[0m \u001b[0;34m*\u001b[0m\u001b[0;34m\u001b[0m\u001b[0;34m\u001b[0m\u001b[0m\n\u001b[0m\u001b[1;32m      9\u001b[0m \u001b[0;32mfrom\u001b[0m \u001b[0;34m.\u001b[0m\u001b[0mpaths\u001b[0m \u001b[0;32mimport\u001b[0m \u001b[0;34m*\u001b[0m\u001b[0;34m\u001b[0m\u001b[0;34m\u001b[0m\u001b[0m\n",
      "\u001b[0;32m~/Applications/conda3/lib/python3.9/site-packages/astropy/config/configuration.py\u001b[0m in \u001b[0;36m<module>\u001b[0;34m\u001b[0m\n\u001b[1;32m     22\u001b[0m \u001b[0;34m\u001b[0m\u001b[0m\n\u001b[1;32m     23\u001b[0m \u001b[0;32mfrom\u001b[0m \u001b[0mastropy\u001b[0m\u001b[0;34m.\u001b[0m\u001b[0mextern\u001b[0m\u001b[0;34m.\u001b[0m\u001b[0mconfigobj\u001b[0m \u001b[0;32mimport\u001b[0m \u001b[0mconfigobj\u001b[0m\u001b[0;34m,\u001b[0m \u001b[0mvalidate\u001b[0m\u001b[0;34m\u001b[0m\u001b[0;34m\u001b[0m\u001b[0m\n\u001b[0;32m---> 24\u001b[0;31m \u001b[0;32mfrom\u001b[0m \u001b[0mastropy\u001b[0m\u001b[0;34m.\u001b[0m\u001b[0mutils\u001b[0m \u001b[0;32mimport\u001b[0m \u001b[0mfind_current_module\u001b[0m\u001b[0;34m,\u001b[0m \u001b[0msilence\u001b[0m\u001b[0;34m\u001b[0m\u001b[0;34m\u001b[0m\u001b[0m\n\u001b[0m\u001b[1;32m     25\u001b[0m \u001b[0;32mfrom\u001b[0m \u001b[0mastropy\u001b[0m\u001b[0;34m.\u001b[0m\u001b[0mutils\u001b[0m\u001b[0;34m.\u001b[0m\u001b[0mdecorators\u001b[0m \u001b[0;32mimport\u001b[0m \u001b[0mdeprecated\u001b[0m\u001b[0;34m\u001b[0m\u001b[0;34m\u001b[0m\u001b[0m\n\u001b[1;32m     26\u001b[0m \u001b[0;32mfrom\u001b[0m \u001b[0mastropy\u001b[0m\u001b[0;34m.\u001b[0m\u001b[0mutils\u001b[0m\u001b[0;34m.\u001b[0m\u001b[0mexceptions\u001b[0m \u001b[0;32mimport\u001b[0m \u001b[0mAstropyDeprecationWarning\u001b[0m\u001b[0;34m,\u001b[0m \u001b[0mAstropyWarning\u001b[0m\u001b[0;34m\u001b[0m\u001b[0;34m\u001b[0m\u001b[0m\n",
      "\u001b[0;32m~/Applications/conda3/lib/python3.9/site-packages/astropy/utils/__init__.py\u001b[0m in \u001b[0;36m<module>\u001b[0;34m\u001b[0m\n\u001b[1;32m     15\u001b[0m \"\"\"\n\u001b[1;32m     16\u001b[0m \u001b[0;34m\u001b[0m\u001b[0m\n\u001b[0;32m---> 17\u001b[0;31m \u001b[0;32mfrom\u001b[0m \u001b[0;34m.\u001b[0m\u001b[0mcodegen\u001b[0m \u001b[0;32mimport\u001b[0m \u001b[0;34m*\u001b[0m\u001b[0;34m\u001b[0m\u001b[0;34m\u001b[0m\u001b[0m\n\u001b[0m\u001b[1;32m     18\u001b[0m \u001b[0;32mfrom\u001b[0m \u001b[0;34m.\u001b[0m\u001b[0mdecorators\u001b[0m \u001b[0;32mimport\u001b[0m \u001b[0;34m*\u001b[0m\u001b[0;34m\u001b[0m\u001b[0;34m\u001b[0m\u001b[0m\n\u001b[1;32m     19\u001b[0m \u001b[0;32mfrom\u001b[0m \u001b[0;34m.\u001b[0m\u001b[0mintrospection\u001b[0m \u001b[0;32mimport\u001b[0m \u001b[0;34m*\u001b[0m\u001b[0;34m\u001b[0m\u001b[0;34m\u001b[0m\u001b[0m\n",
      "\u001b[0;32m~/Applications/conda3/lib/python3.9/site-packages/astropy/utils/codegen.py\u001b[0m in \u001b[0;36m<module>\u001b[0;34m\u001b[0m\n\u001b[1;32m     10\u001b[0m \u001b[0;32mimport\u001b[0m \u001b[0mtextwrap\u001b[0m\u001b[0;34m\u001b[0m\u001b[0;34m\u001b[0m\u001b[0m\n\u001b[1;32m     11\u001b[0m \u001b[0;34m\u001b[0m\u001b[0m\n\u001b[0;32m---> 12\u001b[0;31m \u001b[0;32mfrom\u001b[0m \u001b[0;34m.\u001b[0m\u001b[0mintrospection\u001b[0m \u001b[0;32mimport\u001b[0m \u001b[0mfind_current_module\u001b[0m\u001b[0;34m\u001b[0m\u001b[0;34m\u001b[0m\u001b[0m\n\u001b[0m\u001b[1;32m     13\u001b[0m \u001b[0;34m\u001b[0m\u001b[0m\n\u001b[1;32m     14\u001b[0m \u001b[0m__all__\u001b[0m \u001b[0;34m=\u001b[0m \u001b[0;34m[\u001b[0m\u001b[0;34m\"make_function_with_signature\"\u001b[0m\u001b[0;34m]\u001b[0m\u001b[0;34m\u001b[0m\u001b[0;34m\u001b[0m\u001b[0m\n",
      "\u001b[0;32m~/Applications/conda3/lib/python3.9/site-packages/astropy/utils/introspection.py\u001b[0m in \u001b[0;36m<module>\u001b[0;34m\u001b[0m\n\u001b[1;32m     12\u001b[0m \u001b[0;32mfrom\u001b[0m \u001b[0mpackaging\u001b[0m\u001b[0;34m.\u001b[0m\u001b[0mversion\u001b[0m \u001b[0;32mimport\u001b[0m \u001b[0mVersion\u001b[0m\u001b[0;34m\u001b[0m\u001b[0;34m\u001b[0m\u001b[0m\n\u001b[1;32m     13\u001b[0m \u001b[0;34m\u001b[0m\u001b[0m\n\u001b[0;32m---> 14\u001b[0;31m \u001b[0;32mfrom\u001b[0m \u001b[0mastropy\u001b[0m\u001b[0;34m.\u001b[0m\u001b[0mutils\u001b[0m\u001b[0;34m.\u001b[0m\u001b[0mdecorators\u001b[0m \u001b[0;32mimport\u001b[0m \u001b[0mdeprecated_renamed_argument\u001b[0m\u001b[0;34m\u001b[0m\u001b[0;34m\u001b[0m\u001b[0m\n\u001b[0m\u001b[1;32m     15\u001b[0m \u001b[0;34m\u001b[0m\u001b[0m\n\u001b[1;32m     16\u001b[0m \u001b[0m__all__\u001b[0m \u001b[0;34m=\u001b[0m \u001b[0;34m[\u001b[0m\u001b[0;34m\"resolve_name\"\u001b[0m\u001b[0;34m,\u001b[0m \u001b[0;34m\"minversion\"\u001b[0m\u001b[0;34m,\u001b[0m \u001b[0;34m\"find_current_module\"\u001b[0m\u001b[0;34m,\u001b[0m \u001b[0;34m\"isinstancemethod\"\u001b[0m\u001b[0;34m]\u001b[0m\u001b[0;34m\u001b[0m\u001b[0;34m\u001b[0m\u001b[0m\n",
      "\u001b[0;32m~/Applications/conda3/lib/python3.9/site-packages/astropy/utils/decorators.py\u001b[0m in \u001b[0;36m<module>\u001b[0;34m\u001b[0m\n\u001b[1;32m     11\u001b[0m \u001b[0;32mfrom\u001b[0m \u001b[0minspect\u001b[0m \u001b[0;32mimport\u001b[0m \u001b[0msignature\u001b[0m\u001b[0;34m\u001b[0m\u001b[0;34m\u001b[0m\u001b[0m\n\u001b[1;32m     12\u001b[0m \u001b[0;34m\u001b[0m\u001b[0m\n\u001b[0;32m---> 13\u001b[0;31m from .exceptions import (\n\u001b[0m\u001b[1;32m     14\u001b[0m     \u001b[0mAstropyDeprecationWarning\u001b[0m\u001b[0;34m,\u001b[0m\u001b[0;34m\u001b[0m\u001b[0;34m\u001b[0m\u001b[0m\n\u001b[1;32m     15\u001b[0m     \u001b[0mAstropyPendingDeprecationWarning\u001b[0m\u001b[0;34m,\u001b[0m\u001b[0;34m\u001b[0m\u001b[0;34m\u001b[0m\u001b[0m\n",
      "\u001b[0;32m~/Applications/conda3/lib/python3.9/site-packages/astropy/utils/exceptions.py\u001b[0m in \u001b[0;36m<module>\u001b[0;34m\u001b[0m\n\u001b[1;32m      9\u001b[0m \u001b[0;31m# astropy.utils.decorators.deprecate, since that module needs the exceptions\u001b[0m\u001b[0;34m\u001b[0m\u001b[0;34m\u001b[0m\u001b[0m\n\u001b[1;32m     10\u001b[0m \u001b[0;31m# here, leading to circular import problems.\u001b[0m\u001b[0;34m\u001b[0m\u001b[0;34m\u001b[0m\u001b[0m\n\u001b[0;32m---> 11\u001b[0;31m \u001b[0;32mfrom\u001b[0m \u001b[0merfa\u001b[0m \u001b[0;32mimport\u001b[0m \u001b[0mErfaError\u001b[0m\u001b[0;34m,\u001b[0m \u001b[0mErfaWarning\u001b[0m  \u001b[0;31m# noqa: F401\u001b[0m\u001b[0;34m\u001b[0m\u001b[0;34m\u001b[0m\u001b[0m\n\u001b[0m\u001b[1;32m     12\u001b[0m \u001b[0;34m\u001b[0m\u001b[0m\n\u001b[1;32m     13\u001b[0m __all__ = [\n",
      "\u001b[0;32m~/Applications/conda3/lib/python3.9/site-packages/erfa/__init__.py\u001b[0m in \u001b[0;36m<module>\u001b[0;34m\u001b[0m\n\u001b[1;32m      3\u001b[0m \u001b[0;31m# Import version first, as this gives a more useful error message\u001b[0m\u001b[0;34m\u001b[0m\u001b[0;34m\u001b[0m\u001b[0m\n\u001b[1;32m      4\u001b[0m \u001b[0;31m# if a system liberfa is too old.\u001b[0m\u001b[0;34m\u001b[0m\u001b[0;34m\u001b[0m\u001b[0m\n\u001b[0;32m----> 5\u001b[0;31m \u001b[0;32mfrom\u001b[0m \u001b[0;34m.\u001b[0m\u001b[0mversion\u001b[0m \u001b[0;32mimport\u001b[0m \u001b[0mversion\u001b[0m \u001b[0;32mas\u001b[0m \u001b[0m__version__\u001b[0m  \u001b[0;31m# noqa\u001b[0m\u001b[0;34m\u001b[0m\u001b[0;34m\u001b[0m\u001b[0m\n\u001b[0m\u001b[1;32m      6\u001b[0m \u001b[0;32mfrom\u001b[0m \u001b[0;34m.\u001b[0m\u001b[0mcore\u001b[0m \u001b[0;32mimport\u001b[0m \u001b[0;34m*\u001b[0m  \u001b[0;31m# noqa\u001b[0m\u001b[0;34m\u001b[0m\u001b[0;34m\u001b[0m\u001b[0m\n\u001b[1;32m      7\u001b[0m from .ufunc import (dt_eraASTROM, dt_eraLDBODY, dt_eraLEAPSECOND,  # noqa\n",
      "\u001b[0;32m~/Applications/conda3/lib/python3.9/site-packages/erfa/version.py\u001b[0m in \u001b[0;36m<module>\u001b[0;34m\u001b[0m\n\u001b[1;32m     23\u001b[0m \u001b[0;31m# up the docstrings and list the values.\u001b[0m\u001b[0;34m\u001b[0m\u001b[0;34m\u001b[0m\u001b[0m\n\u001b[1;32m     24\u001b[0m \u001b[0;32mtry\u001b[0m\u001b[0;34m:\u001b[0m\u001b[0;34m\u001b[0m\u001b[0;34m\u001b[0m\u001b[0m\n\u001b[0;32m---> 25\u001b[0;31m     \u001b[0;32mfrom\u001b[0m \u001b[0;34m.\u001b[0m \u001b[0;32mimport\u001b[0m \u001b[0mufunc\u001b[0m\u001b[0;34m\u001b[0m\u001b[0;34m\u001b[0m\u001b[0m\n\u001b[0m\u001b[1;32m     26\u001b[0m \u001b[0;32mexcept\u001b[0m \u001b[0mImportError\u001b[0m \u001b[0;32mas\u001b[0m \u001b[0mexc\u001b[0m\u001b[0;34m:\u001b[0m\u001b[0;34m\u001b[0m\u001b[0;34m\u001b[0m\u001b[0m\n\u001b[1;32m     27\u001b[0m     \u001b[0;31m# If compiled to use a system liberfa, that library can be too old, and\u001b[0m\u001b[0;34m\u001b[0m\u001b[0;34m\u001b[0m\u001b[0m\n",
      "\u001b[0;31mImportError\u001b[0m: numpy.core.multiarray failed to import"
     ]
    }
   ],
   "source": [
    "# As always, Let's start with importing our packages\n",
    "import os\n",
    "import numpy as np\n",
    "import scipy\n",
    "import matplotlib\n",
    "import matplotlib.pyplot as plt\n",
    "from astropy.table import Table\n",
    "\n",
    "# We can beautify our plots by changing the matpltlib setting a little\n",
    "plt.rcParams['font.size'] = 18\n",
    "plt.rcParams['axes.linewidth'] = 2"
   ]
  },
  {
   "cell_type": "code",
   "execution_count": null,
   "metadata": {
    "editable": true,
    "slideshow": {
     "slide_type": ""
    },
    "tags": [
     "hide-cell"
    ]
   },
   "outputs": [],
   "source": [
    "# Don't worry about this cell, it's just to make the notebook look a little nicer.\n",
    "try:\n",
    "    import google.colab\n",
    "    IN_COLAB = True\n",
    "except ImportError:\n",
    "    IN_COLAB = False\n",
    "\n",
    "# Get the directory right\n",
    "if IN_COLAB:\n",
    "  from google.colab import drive\n",
    "  drive.mount('/content/drive/')\n",
    "  os.chdir('/content/drive/Shareddrives/AST207/data')\n",
    "else:\n",
    "    if not os.path.exists(\"../../../_static/ObsAstroData/\"):\n",
    "        os.makedirs(\"../../../_static/ObsAstroData/\")\n",
    "    os.chdir('../../../_static/ObsAstroData/')"
   ]
  },
  {
   "cell_type": "markdown",
   "metadata": {
    "editable": true,
    "slideshow": {
     "slide_type": ""
    },
    "tags": []
   },
   "source": [
    "In this notebook, we will revisit the **football** data from last week in order to practice calculating the mean, median, and mode of some distributions."
   ]
  },
  {
   "cell_type": "markdown",
   "metadata": {
    "editable": true,
    "slideshow": {
     "slide_type": ""
    },
    "tags": []
   },
   "source": [
    "### 1. Read a catalog of the football players\n",
    "\n",
    "We have a catalog of the 2023 NFL rosters. The catalog is in the form of a CSV file, which is a common format for storing data. You can also open this CSV file using Microsoft Excel or MacOS Numbers. In Python, we can read this file using the `astropy.table.Table` class. We have imported this class as `Table` from the `astropy.table` package. Now we use `Table.read()` to read the CSV file. "
   ]
  },
  {
   "cell_type": "code",
   "execution_count": 109,
   "metadata": {
    "editable": true,
    "slideshow": {
     "slide_type": ""
    },
    "tags": []
   },
   "outputs": [
    {
     "data": {
      "text/html": [
       "<div><i>Table length=1433</i>\n",
       "<table id=\"table5395305680\" class=\"table-striped table-bordered table-condensed\">\n",
       "<thead><tr><th>nflId</th><th>height</th><th>weight</th><th>birthDate</th><th>collegeName</th><th>officialPosition</th><th>displayName</th><th>height_inches</th><th>age</th></tr></thead>\n",
       "<thead><tr><th>int64</th><th>str4</th><th>int64</th><th>str10</th><th>str30</th><th>str3</th><th>str26</th><th>float64</th><th>int64</th></tr></thead>\n",
       "<tr><td>25511</td><td>6-4</td><td>225</td><td>1977-08-03</td><td>Michigan</td><td>QB</td><td>Tom Brady</td><td>76.0</td><td>47</td></tr>\n",
       "<tr><td>28963</td><td>6-5</td><td>240</td><td>1982-03-02</td><td>Miami, O.</td><td>QB</td><td>Ben Roethlisberger</td><td>77.0</td><td>42</td></tr>\n",
       "<tr><td>29550</td><td>6-4</td><td>328</td><td>1982-01-22</td><td>Arkansas</td><td>T</td><td>Jason Peters</td><td>76.0</td><td>42</td></tr>\n",
       "<tr><td>29851</td><td>6-2</td><td>225</td><td>1983-12-02</td><td>California</td><td>QB</td><td>Aaron Rodgers</td><td>74.0</td><td>41</td></tr>\n",
       "<tr><td>30078</td><td>6-2</td><td>228</td><td>1982-11-24</td><td>Harvard</td><td>QB</td><td>Ryan Fitzpatrick</td><td>74.0</td><td>42</td></tr>\n",
       "<tr><td>30842</td><td>6-6</td><td>267</td><td>1984-05-19</td><td>UCLA</td><td>TE</td><td>Marcedes Lewis</td><td>78.0</td><td>40</td></tr>\n",
       "<tr><td>30869</td><td>6-7</td><td>330</td><td>1981-12-12</td><td>Louisiana State</td><td>T</td><td>Andrew Whitworth</td><td>79.0</td><td>43</td></tr>\n",
       "<tr><td>33084</td><td>6-4</td><td>217</td><td>1985-05-17</td><td>Boston College</td><td>QB</td><td>Matt Ryan</td><td>76.0</td><td>39</td></tr>\n",
       "<tr><td>33107</td><td>6-4</td><td>315</td><td>1985-08-30</td><td>Virginia Tech</td><td>T</td><td>Duane Brown</td><td>76.0</td><td>39</td></tr>\n",
       "<tr><td>...</td><td>...</td><td>...</td><td>...</td><td>...</td><td>...</td><td>...</td><td>...</td><td>...</td></tr>\n",
       "<tr><td>53053</td><td>6-3</td><td>255</td><td>1998-04-17</td><td>Memphis</td><td>DE</td><td>Bryce Huff</td><td>75.0</td><td>26</td></tr>\n",
       "<tr><td>53059</td><td>6-3</td><td>239</td><td>1998-05-24</td><td>Iowa</td><td>MLB</td><td>Kristian Welch</td><td>75.0</td><td>26</td></tr>\n",
       "<tr><td>53063</td><td>6-3</td><td>270</td><td>1997-10-28</td><td>Texas State</td><td>C</td><td>Aaron Brewer</td><td>75.0</td><td>27</td></tr>\n",
       "<tr><td>53065</td><td>6-5</td><td>255</td><td>1997-02-22</td><td>Arizona State</td><td>TE</td><td>Tommy Hudson</td><td>77.0</td><td>27</td></tr>\n",
       "<tr><td>53073</td><td>6-3</td><td>290</td><td>1997-02-28</td><td>Florida International</td><td>DT</td><td>Teair Tart</td><td>75.0</td><td>27</td></tr>\n",
       "<tr><td>53074</td><td>6-3</td><td>215</td><td>1997-03-21</td><td>Indiana</td><td>WR</td><td>Nick Westbrook-Ikhine</td><td>75.0</td><td>27</td></tr>\n",
       "<tr><td>53079</td><td>6-1</td><td>255</td><td>1997-08-20</td><td>Toledo</td><td>FB</td><td>Reggie Gilliam</td><td>73.0</td><td>27</td></tr>\n",
       "<tr><td>53091</td><td>5-11</td><td>208</td><td>1996-05-17</td><td>Oregon State</td><td>RB</td><td>Artavis Pierce</td><td>71.0</td><td>28</td></tr>\n",
       "<tr><td>53098</td><td>6-2</td><td>204</td><td>1998-03-27</td><td>Tennessee</td><td>WR</td><td>Marquez Callaway</td><td>74.0</td><td>26</td></tr>\n",
       "<tr><td>53172</td><td>6-3</td><td>235</td><td>1997-06-03</td><td>Indiana State</td><td>TE</td><td>Dominique Dafney</td><td>75.0</td><td>27</td></tr>\n",
       "</table></div>"
      ],
      "text/plain": [
       "<Table length=1433>\n",
       "nflId height weight birthDate  ...      displayName      height_inches  age \n",
       "int64  str4  int64    str10    ...         str26            float64    int64\n",
       "----- ------ ------ ---------- ... --------------------- ------------- -----\n",
       "25511    6-4    225 1977-08-03 ...             Tom Brady          76.0    47\n",
       "28963    6-5    240 1982-03-02 ...    Ben Roethlisberger          77.0    42\n",
       "29550    6-4    328 1982-01-22 ...          Jason Peters          76.0    42\n",
       "29851    6-2    225 1983-12-02 ...         Aaron Rodgers          74.0    41\n",
       "30078    6-2    228 1982-11-24 ...      Ryan Fitzpatrick          74.0    42\n",
       "30842    6-6    267 1984-05-19 ...        Marcedes Lewis          78.0    40\n",
       "30869    6-7    330 1981-12-12 ...      Andrew Whitworth          79.0    43\n",
       "33084    6-4    217 1985-05-17 ...             Matt Ryan          76.0    39\n",
       "33107    6-4    315 1985-08-30 ...           Duane Brown          76.0    39\n",
       "  ...    ...    ...        ... ...                   ...           ...   ...\n",
       "53053    6-3    255 1998-04-17 ...            Bryce Huff          75.0    26\n",
       "53059    6-3    239 1998-05-24 ...        Kristian Welch          75.0    26\n",
       "53063    6-3    270 1997-10-28 ...          Aaron Brewer          75.0    27\n",
       "53065    6-5    255 1997-02-22 ...          Tommy Hudson          77.0    27\n",
       "53073    6-3    290 1997-02-28 ...            Teair Tart          75.0    27\n",
       "53074    6-3    215 1997-03-21 ... Nick Westbrook-Ikhine          75.0    27\n",
       "53079    6-1    255 1997-08-20 ...        Reggie Gilliam          73.0    27\n",
       "53091   5-11    208 1996-05-17 ...        Artavis Pierce          71.0    28\n",
       "53098    6-2    204 1998-03-27 ...      Marquez Callaway          74.0    26\n",
       "53172    6-3    235 1997-06-03 ...      Dominique Dafney          75.0    27"
      ]
     },
     "execution_count": 109,
     "metadata": {},
     "output_type": "execute_result"
    }
   ],
   "source": [
    "cat = Table.read('./players_age.csv')\n",
    "cat"
   ]
  },
  {
   "cell_type": "markdown",
   "metadata": {
    "editable": true,
    "slideshow": {
     "slide_type": ""
    },
    "tags": []
   },
   "source": [
    "Again, we can check all the column names with `cat.colnames`. "
   ]
  },
  {
   "cell_type": "code",
   "execution_count": 111,
   "metadata": {
    "editable": true,
    "slideshow": {
     "slide_type": ""
    },
    "tags": []
   },
   "outputs": [
    {
     "data": {
      "text/plain": [
       "['nflId',\n",
       " 'height',\n",
       " 'weight',\n",
       " 'birthDate',\n",
       " 'collegeName',\n",
       " 'officialPosition',\n",
       " 'displayName',\n",
       " 'height_inches',\n",
       " 'age']"
      ]
     },
     "execution_count": 111,
     "metadata": {},
     "output_type": "execute_result"
    }
   ],
   "source": [
    "cat.colnames"
   ]
  },
  {
   "cell_type": "markdown",
   "metadata": {
    "editable": true,
    "slideshow": {
     "slide_type": ""
    },
    "tags": []
   },
   "source": [
    "Calculate the **mean**, **median**, and **mode** of the player height (in inches). "
   ]
  },
  {
   "cell_type": "markdown",
   "metadata": {},
   "source": [
    "Are the three numbers different? If so, why? If not, why not?"
   ]
  },
  {
   "cell_type": "markdown",
   "metadata": {},
   "source": [
    "Make a **histogram** of the player height in the same units. Do your answers make sense?"
   ]
  },
  {
   "cell_type": "markdown",
   "metadata": {},
   "source": [
    "Calculate the **mean**, **median**, and **mode** of the player age. Again histogram the player age and determine if your answers make sense. "
   ]
  },
  {
   "cell_type": "markdown",
   "metadata": {},
   "source": [
    "Extra credit: find **height** and **age** data for typical people in the United States and compare our statistics with those of football players. How can you compare the distributions?"
   ]
  }
 ],
 "metadata": {
  "kernelspec": {
   "display_name": "Python 3 (ipykernel)",
   "language": "python",
   "name": "python3"
  },
  "language_info": {
   "codemirror_mode": {
    "name": "ipython",
    "version": 3
   },
   "file_extension": ".py",
   "mimetype": "text/x-python",
   "name": "python",
   "nbconvert_exporter": "python",
   "pygments_lexer": "ipython3",
   "version": "3.9.7"
  }
 },
 "nbformat": 4,
 "nbformat_minor": 4
}
