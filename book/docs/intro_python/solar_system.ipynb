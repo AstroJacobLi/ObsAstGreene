{
 "cells": [
  {
   "cell_type": "markdown",
   "id": "275342f1-c87c-4061-af73-2c05f58cb951",
   "metadata": {
    "editable": true,
    "slideshow": {
     "slide_type": ""
    },
    "tags": []
   },
   "source": [
    "# Planets in Solar System"
   ]
  },
  {
   "cell_type": "code",
   "execution_count": null,
   "id": "6d73d6e5-2cfa-4288-89b5-1753b799e476",
   "metadata": {},
   "outputs": [],
   "source": [
    "import numpy as np"
   ]
  },
  {
   "cell_type": "code",
   "execution_count": null,
   "id": "b283279b-d66a-4436-bb2d-4239956fb484",
   "metadata": {},
   "outputs": [],
   "source": [
    "from astroquery.jplhorizons import Horizons\n",
    "import pandas as pd\n",
    "\n",
    "# Set up parameters for Mars\n",
    "mars = Horizons(id='499', location='500@0', epochs={'start': '2014-01-01', \n",
    "                                                     'stop': '2024-01-10', \n",
    "                                                     'step': '5d'})\n",
    "data = mars.vectors(refplane='ecliptic')\n",
    "data['r'] = np.sqrt(data['x']**2 + data['y']**2 + data['z']**2)\n",
    "data['datetime_jd'] -= data['datetime_jd'][0]"
   ]
  },
  {
   "cell_type": "code",
   "execution_count": null,
   "id": "894b7874-3dd7-4897-af7a-363995f5562e",
   "metadata": {},
   "outputs": [],
   "source": [
    "plt.scatter(data['datetime_jd'], data['r'])"
   ]
  },
  {
   "cell_type": "code",
   "execution_count": null,
   "id": "e5e6c9d7-3d66-4d2d-ae6b-54659acd2184",
   "metadata": {},
   "outputs": [],
   "source": [
    "plt.scatter(data['x'], data['y'], s=1)\n",
    "plt.xlabel(\"X (AU)\")\n",
    "plt.ylabel(\"Y (AU)\")\n",
    "plt.title(\"Mars Orbital Path\")\n",
    "plt.gca().set_aspect('equal')\n",
    "plt.legend()\n",
    "plt.grid()\n",
    "plt.show()"
   ]
  },
  {
   "cell_type": "code",
   "execution_count": null,
   "id": "9a66dc66-adb6-456b-90f3-a0aabb6caedc",
   "metadata": {},
   "outputs": [],
   "source": []
  },
  {
   "cell_type": "code",
   "execution_count": null,
   "id": "da5cf956-c863-4091-9136-bb212f9d1e11",
   "metadata": {},
   "outputs": [],
   "source": [
    "a = (np.max(data['r']) + np.min(data['r'])) / 2\n",
    "r_max = np.max(data['r'])\n",
    "r_min = np.min(data['r'])\n",
    "\n",
    "t_max = data['datetime_jd'][np.argmin(np.abs(data['r'] - r_max))]\n",
    "t_min = data['datetime_jd'][np.argmin(np.abs(data['r'] - r_min))]"
   ]
  },
  {
   "cell_type": "code",
   "execution_count": null,
   "id": "599ff0d4-2595-47d5-b065-0d5d65bd2039",
   "metadata": {},
   "outputs": [],
   "source": [
    "T = np.abs(t_max - t_min) * 2 / 365.2422\n",
    "print(a**3 / T**2)"
   ]
  },
  {
   "cell_type": "code",
   "execution_count": null,
   "id": "9ecb60e3-1d1c-42bc-9389-f8dffda54041",
   "metadata": {},
   "outputs": [],
   "source": []
  },
  {
   "cell_type": "code",
   "execution_count": null,
   "id": "7d20ea7a-599e-4308-964e-c2442a52665a",
   "metadata": {},
   "outputs": [],
   "source": [
    "from mpl_toolkits.mplot3d import Axes3D\n",
    "\n",
    "# Create 3D plot\n",
    "fig = plt.figure()\n",
    "ax = fig.add_subplot(111, projection='3d')\n",
    "\n",
    "# Plot Neptune's orbit\n",
    "ax.plot(data['x'], data['y'], data['z'], label=\"Mars\", color=\"red\")\n",
    "\n",
    "# ax.set_aspect('equal')\n",
    "ax.set(xlim=(-1, 1), zlim=(-1, 1), ylim=(-1, 1))\n",
    "\n",
    "# Add labels and legend\n",
    "ax.set_xlabel(\"X (AU)\")\n",
    "ax.set_ylabel(\"Y (AU)\")\n",
    "ax.set_zlabel(\"Z (AU)\")\n",
    "ax.set_title(\"Neptune and Pluto Orbits (3D Visualization)\")\n",
    "ax.legend()\n",
    "plt.show()\n"
   ]
  },
  {
   "cell_type": "code",
   "execution_count": null,
   "id": "a46e38fd-0bcc-4e74-81f1-0aba4710a639",
   "metadata": {},
   "outputs": [],
   "source": []
  }
 ],
 "metadata": {
  "kernelspec": {
   "display_name": "Python 3 (ipykernel)",
   "language": "python",
   "name": "python3"
  },
  "language_info": {
   "codemirror_mode": {
    "name": "ipython",
    "version": 3
   },
   "file_extension": ".py",
   "mimetype": "text/x-python",
   "name": "python",
   "nbconvert_exporter": "python",
   "pygments_lexer": "ipython3",
   "version": "3.11.9"
  }
 },
 "nbformat": 4,
 "nbformat_minor": 5
}
