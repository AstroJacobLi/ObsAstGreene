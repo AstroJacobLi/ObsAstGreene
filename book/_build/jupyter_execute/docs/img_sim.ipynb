{
 "cells": [
  {
   "cell_type": "markdown",
   "id": "bafd4d38",
   "metadata": {},
   "source": [
    "# Homework: image simulation\n",
    "\n",
    "Understand the data generating process. "
   ]
  },
  {
   "cell_type": "markdown",
   "id": "e07b21c2",
   "metadata": {},
   "source": [
    "## The power of combining images\n",
    "Fight with noise"
   ]
  },
  {
   "cell_type": "code",
   "execution_count": null,
   "id": "4819c9fd",
   "metadata": {},
   "outputs": [],
   "source": []
  }
 ],
 "metadata": {
  "kernelspec": {
   "display_name": "Python 3",
   "language": "python",
   "name": "python3"
  },
  "language_info": {
   "codemirror_mode": {
    "name": "ipython",
    "version": 3
   },
   "file_extension": ".py",
   "mimetype": "text/x-python",
   "name": "python",
   "nbconvert_exporter": "python",
   "pygments_lexer": "ipython3",
   "version": "3.8.8"
  }
 },
 "nbformat": 4,
 "nbformat_minor": 5
}